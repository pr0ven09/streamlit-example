{
  "nbformat": 4,
  "nbformat_minor": 0,
  "metadata": {
    "colab": {
      "provenance": [],
      "toc_visible": true,
      "authorship_tag": "ABX9TyNeNV2NmraI/CdXs11LfSP4",
      "include_colab_link": true
    },
    "kernelspec": {
      "name": "python3",
      "display_name": "Python 3"
    },
    "language_info": {
      "name": "python"
    }
  },
  "cells": [
    {
      "cell_type": "markdown",
      "metadata": {
        "id": "view-in-github",
        "colab_type": "text"
      },
      "source": [
        "<a href=\"https://colab.research.google.com/github/pr0ven09/streamlit-example/blob/master/Timo_case_Full.ipynb\" target=\"_parent\"><img src=\"https://colab.research.google.com/assets/colab-badge.svg\" alt=\"Open In Colab\"/></a>"
      ]
    },
    {
      "cell_type": "markdown",
      "source": [
        "# **Table of Contents**\n",
        "##**Timo test_case_Bao Cuong NG**\n",
        "1. Overview\n",
        "2. Prepare the data\n",
        "3. EDA and visualization\n"
      ],
      "metadata": {
        "id": "CZbvg5-ZBvhY"
      }
    },
    {
      "cell_type": "markdown",
      "source": [
        "# **1. Overview**\n",
        "\n",
        "##**Business understanding**\n",
        "\n",
        "This dataset contains Timo Superbank users' data including personal information (info) and transaction records. Regarding this, the stakeholders want to acknowledge the business landscape and next steps for improvement.\n",
        "\n",
        "##**Dataset background**\n",
        "\n",
        "The dataset includes several attributes regarding users' info:\n",
        "\n",
        "1.   User ID: account_id\n",
        "2.   User DOB: date_of_birth\n",
        "3.   Transaction date & time: txn_ts\n",
        "4.   Transaction value: txn_amount\n",
        "5.   Transaction type: txn_type_code\n",
        "\n",
        "Based on the info provided, a concept for an in-depth analysis is generated:\n",
        "\n",
        "**General info overview -> Demographic analysis -> Transaction analysis -> Conclusion & What's next?**"
      ],
      "metadata": {
        "id": "2Rkw3vZO-78c"
      }
    },
    {
      "cell_type": "markdown",
      "source": [
        "# **2. Prepare the data**\n",
        "**Importing libs**"
      ],
      "metadata": {
        "id": "SaGScMRJHx82"
      }
    },
    {
      "cell_type": "code",
      "source": [
        "import numpy as np\n",
        "import pandas as pd\n",
        "import seaborn as sns\n",
        "import matplotlib.pyplot as plt\n",
        "from scipy.stats import pointbiserialr\n",
        "import warnings\n",
        "import plotly.express as px\n",
        "from plotly.offline import iplot\n",
        "from google.colab import data_table\n",
        "from vega_datasets import data"
      ],
      "metadata": {
        "id": "9l0twOujH8Vj"
      },
      "execution_count": 29,
      "outputs": []
    },
    {
      "cell_type": "markdown",
      "source": [
        "**Importing dataset**\n",
        "\n",
        "*The dataset has already been pre-processed and cleaned in excel for data manipulation convenience (removed duplicate, adding up columns...)*"
      ],
      "metadata": {
        "id": "h48bVNvEIcH0"
      }
    },
    {
      "cell_type": "code",
      "source": [
        "file_path = 'https://drive.google.com/uc?id=1N1kXWKC-W0FVQ6XEASuSo6SkJDgbCo1H'\n",
        "df = pd.read_csv((file_path),sep = ';')\n",
        "print(df.head())"
      ],
      "metadata": {
        "colab": {
          "base_uri": "https://localhost:8080/"
        },
        "id": "QqZQzjvbI6Hl",
        "outputId": "ea2699f4-f7e8-4a10-cd8a-4cf315dbdd14"
      },
      "execution_count": 239,
      "outputs": [
        {
          "output_type": "stream",
          "name": "stdout",
          "text": [
            "  account_id date_of_birth               txn_ts txn_ts_date txn_ts_time  \\\n",
            "0   ID000001    2000-01-12    1/1/2021 11:52:00  2021-01-01   11:52:00    \n",
            "1   ID000001    2000-01-12  2021-01-01 13:01:00  2021-01-01   13:01:00    \n",
            "2   ID000001    2000-01-12  2021-01-02 14:41:00  2021-01-02   14:41:00    \n",
            "3   ID000001    2000-01-12  2021-01-04 13:55:00  2021-01-04   13:55:00    \n",
            "4   ID000001    2000-01-12  2021-01-04 14:50:00  2021-01-04   14:50:00    \n",
            "\n",
            "   txn_amount  txn_amount_credit  txn_amount_debit    txn_abs  txn_type_code  \\\n",
            "0    -42000.0           -42000.0               0.0    42000.0            2.0   \n",
            "1   -148000.0          -148000.0               0.0   148000.0            2.0   \n",
            "2  -1092000.0         -1092000.0               0.0  1092000.0            1.0   \n",
            "3   -197000.0          -197000.0               0.0   197000.0            1.0   \n",
            "4   -162000.0          -162000.0               0.0   162000.0            1.0   \n",
            "\n",
            "    age  \n",
            "0  24.0  \n",
            "1  24.0  \n",
            "2  24.0  \n",
            "3  24.0  \n",
            "4  24.0  \n"
          ]
        }
      ]
    },
    {
      "cell_type": "code",
      "source": [
        "print(\"\\nBasic Information about the Dataset:\")\n",
        "print(df.info())\n",
        "\n",
        "#Unique value of each column\n",
        "print(df.nunique())"
      ],
      "metadata": {
        "colab": {
          "base_uri": "https://localhost:8080/"
        },
        "id": "WLjhguYoTpqg",
        "outputId": "190fd07f-6279-4157-fe4a-640c3fd6ba3f"
      },
      "execution_count": 213,
      "outputs": [
        {
          "output_type": "stream",
          "name": "stdout",
          "text": [
            "\n",
            "Basic Information about the Dataset:\n",
            "<class 'pandas.core.frame.DataFrame'>\n",
            "RangeIndex: 200167 entries, 0 to 200166\n",
            "Data columns (total 11 columns):\n",
            " #   Column             Non-Null Count   Dtype  \n",
            "---  ------             --------------   -----  \n",
            " 0   account_id         199986 non-null  object \n",
            " 1   date_of_birth      199986 non-null  object \n",
            " 2   txn_ts             199986 non-null  object \n",
            " 3   txn_ts_date        199986 non-null  object \n",
            " 4   txn_ts_time        199986 non-null  object \n",
            " 5   txn_amount         199986 non-null  float64\n",
            " 6   txn_amount_credit  199986 non-null  float64\n",
            " 7   txn_amount_debit   199986 non-null  float64\n",
            " 8   txn_abs            199986 non-null  float64\n",
            " 9   txn_type_code      199986 non-null  float64\n",
            " 10  age                199986 non-null  float64\n",
            "dtypes: float64(6), object(5)\n",
            "memory usage: 16.8+ MB\n",
            "None\n",
            "account_id            6847\n",
            "date_of_birth         4349\n",
            "txn_ts               84985\n",
            "txn_ts_date             91\n",
            "txn_ts_time           1867\n",
            "txn_amount           25293\n",
            "txn_amount_credit    11474\n",
            "txn_amount_debit     13820\n",
            "txn_abs              18434\n",
            "txn_type_code            7\n",
            "age                     59\n",
            "dtype: int64\n"
          ]
        }
      ]
    },
    {
      "cell_type": "markdown",
      "source": [
        "#**3. EDA and Visualization**\n"
      ],
      "metadata": {
        "id": "FtcYEHct_MW1"
      }
    },
    {
      "cell_type": "markdown",
      "source": [
        "\n",
        "##**General information**\n",
        "\n",
        "Calculating the users' balance (Assuming every account were having a 0 value balance before the record)"
      ],
      "metadata": {
        "id": "KV0BZGYCP1_T"
      }
    },
    {
      "cell_type": "code",
      "source": [
        "user_balance = df.groupby('account_id')['txn_amount'].sum().reset_index(name='balance')\n",
        "print(user_balance)"
      ],
      "metadata": {
        "colab": {
          "base_uri": "https://localhost:8080/"
        },
        "id": "oAOal5lgQ-ul",
        "outputId": "4399e0bb-cae7-413a-eaf1-f2b9c2e7950f"
      },
      "execution_count": 256,
      "outputs": [
        {
          "output_type": "stream",
          "name": "stdout",
          "text": [
            "     account_id     balance\n",
            "0      ID000001  10639000.0\n",
            "1      ID000002   1536000.0\n",
            "2      ID000003     -1000.0\n",
            "3      ID000004    -47000.0\n",
            "4      ID000005     62000.0\n",
            "...         ...         ...\n",
            "6842   ID006843   3067000.0\n",
            "6843   ID006844   -165000.0\n",
            "6844   ID006845      1000.0\n",
            "6845   ID006846      1000.0\n",
            "6846   ID006847  11989000.0\n",
            "\n",
            "[6847 rows x 2 columns]\n"
          ]
        }
      ]
    },
    {
      "cell_type": "code",
      "source": [
        "#Total balance & avg balance\n",
        "user_balance['balance'].mean()"
      ],
      "metadata": {
        "colab": {
          "base_uri": "https://localhost:8080/"
        },
        "id": "Mk-2l7dKbWAA",
        "outputId": "54ce9c3c-26af-4e34-955c-7baf02eb05ee"
      },
      "execution_count": 264,
      "outputs": [
        {
          "output_type": "execute_result",
          "data": {
            "text/plain": [
              "12740288.447495254"
            ]
          },
          "metadata": {},
          "execution_count": 264
        }
      ]
    },
    {
      "cell_type": "code",
      "source": [
        "user_balance['balance'].sum()"
      ],
      "metadata": {
        "colab": {
          "base_uri": "https://localhost:8080/"
        },
        "id": "ep4TsuoTbfSf",
        "outputId": "3ac75d35-628f-4be9-f821-d48c4880a984"
      },
      "execution_count": 265,
      "outputs": [
        {
          "output_type": "execute_result",
          "data": {
            "text/plain": [
              "87232755000.0"
            ]
          },
          "metadata": {},
          "execution_count": 265
        }
      ]
    },
    {
      "cell_type": "markdown",
      "source": [
        "Calculate age and divide in to groups"
      ],
      "metadata": {
        "id": "hn025SQ0RbSC"
      }
    },
    {
      "cell_type": "code",
      "source": [
        "current_year = pd.Timestamp.now().year\n",
        "user_df['age'] = current_year - pd.to_datetime(user_df['date_of_birth']).dt.year\n",
        "\n",
        "print(user_df['age'])"
      ],
      "metadata": {
        "colab": {
          "base_uri": "https://localhost:8080/"
        },
        "id": "nzZPCmIYRi5p",
        "outputId": "cfedc4d4-d817-4619-ad0f-2942f7abadbd"
      },
      "execution_count": 254,
      "outputs": [
        {
          "output_type": "stream",
          "name": "stdout",
          "text": [
            "account_id\n",
            "ID000001    24\n",
            "ID000002    23\n",
            "ID000003    21\n",
            "ID000004    24\n",
            "ID000005    24\n",
            "            ..\n",
            "ID006843    26\n",
            "ID006844    22\n",
            "ID006845    24\n",
            "ID006846    36\n",
            "ID006847    24\n",
            "Name: age, Length: 6847, dtype: int32\n"
          ]
        }
      ]
    },
    {
      "cell_type": "code",
      "source": [
        "df['age_group'] = pd.cut(df['age'], bins=age_bins, labels=age_labels)\n",
        "\n",
        "unique_users_age_group_counts = df.drop_duplicates('account_id').groupby('age_group')['account_id'].count()\n",
        "\n",
        "print(unique_users_age_group_counts)"
      ],
      "metadata": {
        "colab": {
          "base_uri": "https://localhost:8080/"
        },
        "id": "L_QwbjiHTRxA",
        "outputId": "0d99d793-b37c-4316-96dc-929f6e08a559"
      },
      "execution_count": 255,
      "outputs": [
        {
          "output_type": "stream",
          "name": "stdout",
          "text": [
            "age_group\n",
            "0-20        16\n",
            "20-30     4645\n",
            "30-40     1618\n",
            "40-50      339\n",
            "50-60      164\n",
            "60-70       52\n",
            "70-80       12\n",
            "80-90        1\n",
            "90-100       0\n",
            "Name: account_id, dtype: int64\n"
          ]
        }
      ]
    },
    {
      "cell_type": "markdown",
      "source": [
        "General statistics"
      ],
      "metadata": {
        "id": "aSLRrK_kXszW"
      }
    },
    {
      "cell_type": "code",
      "source": [
        "df.describe()"
      ],
      "metadata": {
        "colab": {
          "base_uri": "https://localhost:8080/",
          "height": 300
        },
        "id": "Vu2Bm_ksXLMm",
        "outputId": "40767f11-09ac-4a09-e7d7-d4ef74124434"
      },
      "execution_count": 83,
      "outputs": [
        {
          "output_type": "execute_result",
          "data": {
            "text/plain": [
              "         txn_amount  txn_amount_credit  txn_amount_debit       txn_abs  \\\n",
              "count  1.999860e+05       1.999860e+05      1.999860e+05  1.999860e+05   \n",
              "mean   4.361943e+05      -1.452851e+06      1.889046e+06  3.341897e+06   \n",
              "std    1.951589e+07       1.162125e+07      1.550251e+07  1.923258e+07   \n",
              "min   -1.358349e+09      -1.358349e+09      0.000000e+00  0.000000e+00   \n",
              "25%   -4.860000e+05      -4.860000e+05      0.000000e+00  8.000000e+04   \n",
              "50%   -5.500000e+04      -5.500000e+04      0.000000e+00  3.280000e+05   \n",
              "75%    1.410000e+05       0.000000e+00      1.410000e+05  1.566000e+06   \n",
              "max    2.073547e+09       0.000000e+00      2.073547e+09  2.073547e+09   \n",
              "\n",
              "       txn_type_code            age  \n",
              "count  199986.000000  199986.000000  \n",
              "mean        1.653591      29.773294  \n",
              "std         1.171771       6.469594  \n",
              "min         1.000000      20.000000  \n",
              "25%         1.000000      25.000000  \n",
              "50%         1.000000      28.000000  \n",
              "75%         2.000000      33.000000  \n",
              "max         7.000000      81.000000  "
            ],
            "text/html": [
              "\n",
              "  <div id=\"df-f6082414-0b86-432d-bc1a-e4af22322ecb\" class=\"colab-df-container\">\n",
              "    <div>\n",
              "<style scoped>\n",
              "    .dataframe tbody tr th:only-of-type {\n",
              "        vertical-align: middle;\n",
              "    }\n",
              "\n",
              "    .dataframe tbody tr th {\n",
              "        vertical-align: top;\n",
              "    }\n",
              "\n",
              "    .dataframe thead th {\n",
              "        text-align: right;\n",
              "    }\n",
              "</style>\n",
              "<table border=\"1\" class=\"dataframe\">\n",
              "  <thead>\n",
              "    <tr style=\"text-align: right;\">\n",
              "      <th></th>\n",
              "      <th>txn_amount</th>\n",
              "      <th>txn_amount_credit</th>\n",
              "      <th>txn_amount_debit</th>\n",
              "      <th>txn_abs</th>\n",
              "      <th>txn_type_code</th>\n",
              "      <th>age</th>\n",
              "    </tr>\n",
              "  </thead>\n",
              "  <tbody>\n",
              "    <tr>\n",
              "      <th>count</th>\n",
              "      <td>1.999860e+05</td>\n",
              "      <td>1.999860e+05</td>\n",
              "      <td>1.999860e+05</td>\n",
              "      <td>1.999860e+05</td>\n",
              "      <td>199986.000000</td>\n",
              "      <td>199986.000000</td>\n",
              "    </tr>\n",
              "    <tr>\n",
              "      <th>mean</th>\n",
              "      <td>4.361943e+05</td>\n",
              "      <td>-1.452851e+06</td>\n",
              "      <td>1.889046e+06</td>\n",
              "      <td>3.341897e+06</td>\n",
              "      <td>1.653591</td>\n",
              "      <td>29.773294</td>\n",
              "    </tr>\n",
              "    <tr>\n",
              "      <th>std</th>\n",
              "      <td>1.951589e+07</td>\n",
              "      <td>1.162125e+07</td>\n",
              "      <td>1.550251e+07</td>\n",
              "      <td>1.923258e+07</td>\n",
              "      <td>1.171771</td>\n",
              "      <td>6.469594</td>\n",
              "    </tr>\n",
              "    <tr>\n",
              "      <th>min</th>\n",
              "      <td>-1.358349e+09</td>\n",
              "      <td>-1.358349e+09</td>\n",
              "      <td>0.000000e+00</td>\n",
              "      <td>0.000000e+00</td>\n",
              "      <td>1.000000</td>\n",
              "      <td>20.000000</td>\n",
              "    </tr>\n",
              "    <tr>\n",
              "      <th>25%</th>\n",
              "      <td>-4.860000e+05</td>\n",
              "      <td>-4.860000e+05</td>\n",
              "      <td>0.000000e+00</td>\n",
              "      <td>8.000000e+04</td>\n",
              "      <td>1.000000</td>\n",
              "      <td>25.000000</td>\n",
              "    </tr>\n",
              "    <tr>\n",
              "      <th>50%</th>\n",
              "      <td>-5.500000e+04</td>\n",
              "      <td>-5.500000e+04</td>\n",
              "      <td>0.000000e+00</td>\n",
              "      <td>3.280000e+05</td>\n",
              "      <td>1.000000</td>\n",
              "      <td>28.000000</td>\n",
              "    </tr>\n",
              "    <tr>\n",
              "      <th>75%</th>\n",
              "      <td>1.410000e+05</td>\n",
              "      <td>0.000000e+00</td>\n",
              "      <td>1.410000e+05</td>\n",
              "      <td>1.566000e+06</td>\n",
              "      <td>2.000000</td>\n",
              "      <td>33.000000</td>\n",
              "    </tr>\n",
              "    <tr>\n",
              "      <th>max</th>\n",
              "      <td>2.073547e+09</td>\n",
              "      <td>0.000000e+00</td>\n",
              "      <td>2.073547e+09</td>\n",
              "      <td>2.073547e+09</td>\n",
              "      <td>7.000000</td>\n",
              "      <td>81.000000</td>\n",
              "    </tr>\n",
              "  </tbody>\n",
              "</table>\n",
              "</div>\n",
              "    <div class=\"colab-df-buttons\">\n",
              "\n",
              "  <div class=\"colab-df-container\">\n",
              "    <button class=\"colab-df-convert\" onclick=\"convertToInteractive('df-f6082414-0b86-432d-bc1a-e4af22322ecb')\"\n",
              "            title=\"Convert this dataframe to an interactive table.\"\n",
              "            style=\"display:none;\">\n",
              "\n",
              "  <svg xmlns=\"http://www.w3.org/2000/svg\" height=\"24px\" viewBox=\"0 -960 960 960\">\n",
              "    <path d=\"M120-120v-720h720v720H120Zm60-500h600v-160H180v160Zm220 220h160v-160H400v160Zm0 220h160v-160H400v160ZM180-400h160v-160H180v160Zm440 0h160v-160H620v160ZM180-180h160v-160H180v160Zm440 0h160v-160H620v160Z\"/>\n",
              "  </svg>\n",
              "    </button>\n",
              "\n",
              "  <style>\n",
              "    .colab-df-container {\n",
              "      display:flex;\n",
              "      gap: 12px;\n",
              "    }\n",
              "\n",
              "    .colab-df-convert {\n",
              "      background-color: #E8F0FE;\n",
              "      border: none;\n",
              "      border-radius: 50%;\n",
              "      cursor: pointer;\n",
              "      display: none;\n",
              "      fill: #1967D2;\n",
              "      height: 32px;\n",
              "      padding: 0 0 0 0;\n",
              "      width: 32px;\n",
              "    }\n",
              "\n",
              "    .colab-df-convert:hover {\n",
              "      background-color: #E2EBFA;\n",
              "      box-shadow: 0px 1px 2px rgba(60, 64, 67, 0.3), 0px 1px 3px 1px rgba(60, 64, 67, 0.15);\n",
              "      fill: #174EA6;\n",
              "    }\n",
              "\n",
              "    .colab-df-buttons div {\n",
              "      margin-bottom: 4px;\n",
              "    }\n",
              "\n",
              "    [theme=dark] .colab-df-convert {\n",
              "      background-color: #3B4455;\n",
              "      fill: #D2E3FC;\n",
              "    }\n",
              "\n",
              "    [theme=dark] .colab-df-convert:hover {\n",
              "      background-color: #434B5C;\n",
              "      box-shadow: 0px 1px 3px 1px rgba(0, 0, 0, 0.15);\n",
              "      filter: drop-shadow(0px 1px 2px rgba(0, 0, 0, 0.3));\n",
              "      fill: #FFFFFF;\n",
              "    }\n",
              "  </style>\n",
              "\n",
              "    <script>\n",
              "      const buttonEl =\n",
              "        document.querySelector('#df-f6082414-0b86-432d-bc1a-e4af22322ecb button.colab-df-convert');\n",
              "      buttonEl.style.display =\n",
              "        google.colab.kernel.accessAllowed ? 'block' : 'none';\n",
              "\n",
              "      async function convertToInteractive(key) {\n",
              "        const element = document.querySelector('#df-f6082414-0b86-432d-bc1a-e4af22322ecb');\n",
              "        const dataTable =\n",
              "          await google.colab.kernel.invokeFunction('convertToInteractive',\n",
              "                                                    [key], {});\n",
              "        if (!dataTable) return;\n",
              "\n",
              "        const docLinkHtml = 'Like what you see? Visit the ' +\n",
              "          '<a target=\"_blank\" href=https://colab.research.google.com/notebooks/data_table.ipynb>data table notebook</a>'\n",
              "          + ' to learn more about interactive tables.';\n",
              "        element.innerHTML = '';\n",
              "        dataTable['output_type'] = 'display_data';\n",
              "        await google.colab.output.renderOutput(dataTable, element);\n",
              "        const docLink = document.createElement('div');\n",
              "        docLink.innerHTML = docLinkHtml;\n",
              "        element.appendChild(docLink);\n",
              "      }\n",
              "    </script>\n",
              "  </div>\n",
              "\n",
              "\n",
              "<div id=\"df-ea42c209-de37-4cf6-a2d1-5a087444e2aa\">\n",
              "  <button class=\"colab-df-quickchart\" onclick=\"quickchart('df-ea42c209-de37-4cf6-a2d1-5a087444e2aa')\"\n",
              "            title=\"Suggest charts\"\n",
              "            style=\"display:none;\">\n",
              "\n",
              "<svg xmlns=\"http://www.w3.org/2000/svg\" height=\"24px\"viewBox=\"0 0 24 24\"\n",
              "     width=\"24px\">\n",
              "    <g>\n",
              "        <path d=\"M19 3H5c-1.1 0-2 .9-2 2v14c0 1.1.9 2 2 2h14c1.1 0 2-.9 2-2V5c0-1.1-.9-2-2-2zM9 17H7v-7h2v7zm4 0h-2V7h2v10zm4 0h-2v-4h2v4z\"/>\n",
              "    </g>\n",
              "</svg>\n",
              "  </button>\n",
              "\n",
              "<style>\n",
              "  .colab-df-quickchart {\n",
              "      --bg-color: #E8F0FE;\n",
              "      --fill-color: #1967D2;\n",
              "      --hover-bg-color: #E2EBFA;\n",
              "      --hover-fill-color: #174EA6;\n",
              "      --disabled-fill-color: #AAA;\n",
              "      --disabled-bg-color: #DDD;\n",
              "  }\n",
              "\n",
              "  [theme=dark] .colab-df-quickchart {\n",
              "      --bg-color: #3B4455;\n",
              "      --fill-color: #D2E3FC;\n",
              "      --hover-bg-color: #434B5C;\n",
              "      --hover-fill-color: #FFFFFF;\n",
              "      --disabled-bg-color: #3B4455;\n",
              "      --disabled-fill-color: #666;\n",
              "  }\n",
              "\n",
              "  .colab-df-quickchart {\n",
              "    background-color: var(--bg-color);\n",
              "    border: none;\n",
              "    border-radius: 50%;\n",
              "    cursor: pointer;\n",
              "    display: none;\n",
              "    fill: var(--fill-color);\n",
              "    height: 32px;\n",
              "    padding: 0;\n",
              "    width: 32px;\n",
              "  }\n",
              "\n",
              "  .colab-df-quickchart:hover {\n",
              "    background-color: var(--hover-bg-color);\n",
              "    box-shadow: 0 1px 2px rgba(60, 64, 67, 0.3), 0 1px 3px 1px rgba(60, 64, 67, 0.15);\n",
              "    fill: var(--button-hover-fill-color);\n",
              "  }\n",
              "\n",
              "  .colab-df-quickchart-complete:disabled,\n",
              "  .colab-df-quickchart-complete:disabled:hover {\n",
              "    background-color: var(--disabled-bg-color);\n",
              "    fill: var(--disabled-fill-color);\n",
              "    box-shadow: none;\n",
              "  }\n",
              "\n",
              "  .colab-df-spinner {\n",
              "    border: 2px solid var(--fill-color);\n",
              "    border-color: transparent;\n",
              "    border-bottom-color: var(--fill-color);\n",
              "    animation:\n",
              "      spin 1s steps(1) infinite;\n",
              "  }\n",
              "\n",
              "  @keyframes spin {\n",
              "    0% {\n",
              "      border-color: transparent;\n",
              "      border-bottom-color: var(--fill-color);\n",
              "      border-left-color: var(--fill-color);\n",
              "    }\n",
              "    20% {\n",
              "      border-color: transparent;\n",
              "      border-left-color: var(--fill-color);\n",
              "      border-top-color: var(--fill-color);\n",
              "    }\n",
              "    30% {\n",
              "      border-color: transparent;\n",
              "      border-left-color: var(--fill-color);\n",
              "      border-top-color: var(--fill-color);\n",
              "      border-right-color: var(--fill-color);\n",
              "    }\n",
              "    40% {\n",
              "      border-color: transparent;\n",
              "      border-right-color: var(--fill-color);\n",
              "      border-top-color: var(--fill-color);\n",
              "    }\n",
              "    60% {\n",
              "      border-color: transparent;\n",
              "      border-right-color: var(--fill-color);\n",
              "    }\n",
              "    80% {\n",
              "      border-color: transparent;\n",
              "      border-right-color: var(--fill-color);\n",
              "      border-bottom-color: var(--fill-color);\n",
              "    }\n",
              "    90% {\n",
              "      border-color: transparent;\n",
              "      border-bottom-color: var(--fill-color);\n",
              "    }\n",
              "  }\n",
              "</style>\n",
              "\n",
              "  <script>\n",
              "    async function quickchart(key) {\n",
              "      const quickchartButtonEl =\n",
              "        document.querySelector('#' + key + ' button');\n",
              "      quickchartButtonEl.disabled = true;  // To prevent multiple clicks.\n",
              "      quickchartButtonEl.classList.add('colab-df-spinner');\n",
              "      try {\n",
              "        const charts = await google.colab.kernel.invokeFunction(\n",
              "            'suggestCharts', [key], {});\n",
              "      } catch (error) {\n",
              "        console.error('Error during call to suggestCharts:', error);\n",
              "      }\n",
              "      quickchartButtonEl.classList.remove('colab-df-spinner');\n",
              "      quickchartButtonEl.classList.add('colab-df-quickchart-complete');\n",
              "    }\n",
              "    (() => {\n",
              "      let quickchartButtonEl =\n",
              "        document.querySelector('#df-ea42c209-de37-4cf6-a2d1-5a087444e2aa button');\n",
              "      quickchartButtonEl.style.display =\n",
              "        google.colab.kernel.accessAllowed ? 'block' : 'none';\n",
              "    })();\n",
              "  </script>\n",
              "</div>\n",
              "\n",
              "    </div>\n",
              "  </div>\n"
            ],
            "application/vnd.google.colaboratory.intrinsic+json": {
              "type": "dataframe",
              "summary": "{\n  \"name\": \"df\",\n  \"rows\": 8,\n  \"fields\": [\n    {\n      \"column\": \"txn_amount\",\n      \"properties\": {\n        \"dtype\": \"number\",\n        \"std\": 931785657.0782574,\n        \"min\": -1358349000.0,\n        \"max\": 2073547000.0,\n        \"num_unique_values\": 8,\n        \"samples\": [\n          436194.3086016021,\n          -55000.0,\n          199986.0\n        ],\n        \"semantic_type\": \"\",\n        \"description\": \"\"\n      }\n    },\n    {\n      \"column\": \"txn_amount_credit\",\n      \"properties\": {\n        \"dtype\": \"number\",\n        \"std\": 480763623.1494892,\n        \"min\": -1358349000.0,\n        \"max\": 11621245.850927666,\n        \"num_unique_values\": 7,\n        \"samples\": [\n          199986.0,\n          -1452851.229586071,\n          -55000.0\n        ],\n        \"semantic_type\": \"\",\n        \"description\": \"\"\n      }\n    },\n    {\n      \"column\": \"txn_amount_debit\",\n      \"properties\": {\n        \"dtype\": \"number\",\n        \"std\": 732233359.9723513,\n        \"min\": 0.0,\n        \"max\": 2073547000.0,\n        \"num_unique_values\": 6,\n        \"samples\": [\n          199986.0,\n          1889045.538187673,\n          2073547000.0\n        ],\n        \"semantic_type\": \"\",\n        \"description\": \"\"\n      }\n    },\n    {\n      \"column\": \"txn_abs\",\n      \"properties\": {\n        \"dtype\": \"number\",\n        \"std\": 731888491.5319073,\n        \"min\": 0.0,\n        \"max\": 2073547000.0,\n        \"num_unique_values\": 8,\n        \"samples\": [\n          3341896.767773744,\n          328000.0,\n          199986.0\n        ],\n        \"semantic_type\": \"\",\n        \"description\": \"\"\n      }\n    },\n    {\n      \"column\": \"txn_type_code\",\n      \"properties\": {\n        \"dtype\": \"number\",\n        \"std\": 70704.97960634976,\n        \"min\": 1.0,\n        \"max\": 199986.0,\n        \"num_unique_values\": 6,\n        \"samples\": [\n          199986.0,\n          1.6535907513525947,\n          7.0\n        ],\n        \"semantic_type\": \"\",\n        \"description\": \"\"\n      }\n    },\n    {\n      \"column\": \"age\",\n      \"properties\": {\n        \"dtype\": \"number\",\n        \"std\": 70694.45620421953,\n        \"min\": 6.469594053725841,\n        \"max\": 199986.0,\n        \"num_unique_values\": 8,\n        \"samples\": [\n          29.773294130589143,\n          28.0,\n          199986.0\n        ],\n        \"semantic_type\": \"\",\n        \"description\": \"\"\n      }\n    }\n  ]\n}"
            }
          },
          "metadata": {},
          "execution_count": 83
        }
      ]
    },
    {
      "cell_type": "markdown",
      "source": [
        "##**Demographic**\n",
        "Age distribution\n"
      ],
      "metadata": {
        "id": "Hue6WtmKXUYr"
      }
    },
    {
      "cell_type": "code",
      "source": [
        "unique_users_df = df.drop_duplicates(subset='account_id')\n",
        "\n",
        "# Histogram plot\n",
        "plt.figure(figsize=(10, 6))\n",
        "plt.hist(unique_users_df['age'], bins=20, color='skyblue', edgecolor='black', alpha=0.7)\n",
        "plt.title('Age Distribution')\n",
        "plt.xlabel('Age')\n",
        "plt.ylabel('User count')\n",
        "plt.grid(True)\n",
        "plt.show()\n",
        "\n",
        "unique_users_df['age'].describe()"
      ],
      "metadata": {
        "colab": {
          "base_uri": "https://localhost:8080/",
          "height": 720
        },
        "id": "B1s_mi60WbZE",
        "outputId": "ec09ad34-a0f4-47bc-91bf-9df3518c1edb"
      },
      "execution_count": 269,
      "outputs": [
        {
          "output_type": "display_data",
          "data": {
            "text/plain": [
              "<Figure size 1000x600 with 1 Axes>"
            ],
            "image/png": "[encoded data removed]"
          },
          "metadata": {}
        },
        {
          "output_type": "execute_result",
          "data": {
            "text/plain": [
              "count    6847.000000\n",
              "mean       29.535563\n",
              "std         8.034645\n",
              "min        20.000000\n",
              "25%        24.000000\n",
              "50%        27.000000\n",
              "75%        32.000000\n",
              "max        81.000000\n",
              "Name: age, dtype: float64"
            ]
          },
          "metadata": {},
          "execution_count": 269
        }
      ]
    },
    {
      "cell_type": "markdown",
      "source": [
        "Total transaction value by age **groups**"
      ],
      "metadata": {
        "id": "N1yDXzCKaikY"
      }
    },
    {
      "cell_type": "code",
      "source": [
        "age_group_balance = df.groupby('age_group')['txn_abs'].sum().reset_index(name='sum_balance_by_age_group')\n",
        "df.groupby('age_group')['txn_abs'].sum().reset_index(name='sum_balance_by_age_group')"
      ],
      "metadata": {
        "colab": {
          "base_uri": "https://localhost:8080/",
          "height": 498
        },
        "id": "9g39az0uYLB5",
        "outputId": "404f55e0-290a-43ec-e851-6dd95b511ad5"
      },
      "execution_count": 147,
      "outputs": [
        {
          "output_type": "execute_result",
          "data": {
            "text/plain": [
              "  age_group  sum_balance_by_age_group\n",
              "0      0-20              1.256000e+06\n",
              "1     20-30              2.291484e+11\n",
              "2     30-40              3.429591e+11\n",
              "3     40-50              7.030812e+10\n",
              "4     50-60              2.258285e+10\n",
              "5     60-70              2.619590e+09\n",
              "6     70-80              6.240320e+08\n",
              "7     80-90              8.922400e+07\n",
              "8    90-100              0.000000e+00"
            ],
            "text/html": [
              "\n",
              "  <div id=\"df-89be9128-914f-4a16-aff9-92217260277d\" class=\"colab-df-container\">\n",
              "    <div>\n",
              "<style scoped>\n",
              "    .dataframe tbody tr th:only-of-type {\n",
              "        vertical-align: middle;\n",
              "    }\n",
              "\n",
              "    .dataframe tbody tr th {\n",
              "        vertical-align: top;\n",
              "    }\n",
              "\n",
              "    .dataframe thead th {\n",
              "        text-align: right;\n",
              "    }\n",
              "</style>\n",
              "<table border=\"1\" class=\"dataframe\">\n",
              "  <thead>\n",
              "    <tr style=\"text-align: right;\">\n",
              "      <th></th>\n",
              "      <th>age_group</th>\n",
              "      <th>sum_balance_by_age_group</th>\n",
              "    </tr>\n",
              "  </thead>\n",
              "  <tbody>\n",
              "    <tr>\n",
              "      <th>0</th>\n",
              "      <td>0-20</td>\n",
              "      <td>1.256000e+06</td>\n",
              "    </tr>\n",
              "    <tr>\n",
              "      <th>1</th>\n",
              "      <td>20-30</td>\n",
              "      <td>2.291484e+11</td>\n",
              "    </tr>\n",
              "    <tr>\n",
              "      <th>2</th>\n",
              "      <td>30-40</td>\n",
              "      <td>3.429591e+11</td>\n",
              "    </tr>\n",
              "    <tr>\n",
              "      <th>3</th>\n",
              "      <td>40-50</td>\n",
              "      <td>7.030812e+10</td>\n",
              "    </tr>\n",
              "    <tr>\n",
              "      <th>4</th>\n",
              "      <td>50-60</td>\n",
              "      <td>2.258285e+10</td>\n",
              "    </tr>\n",
              "    <tr>\n",
              "      <th>5</th>\n",
              "      <td>60-70</td>\n",
              "      <td>2.619590e+09</td>\n",
              "    </tr>\n",
              "    <tr>\n",
              "      <th>6</th>\n",
              "      <td>70-80</td>\n",
              "      <td>6.240320e+08</td>\n",
              "    </tr>\n",
              "    <tr>\n",
              "      <th>7</th>\n",
              "      <td>80-90</td>\n",
              "      <td>8.922400e+07</td>\n",
              "    </tr>\n",
              "    <tr>\n",
              "      <th>8</th>\n",
              "      <td>90-100</td>\n",
              "      <td>0.000000e+00</td>\n",
              "    </tr>\n",
              "  </tbody>\n",
              "</table>\n",
              "</div>\n",
              "    <div class=\"colab-df-buttons\">\n",
              "\n",
              "  <div class=\"colab-df-container\">\n",
              "    <button class=\"colab-df-convert\" onclick=\"convertToInteractive('df-89be9128-914f-4a16-aff9-92217260277d')\"\n",
              "            title=\"Convert this dataframe to an interactive table.\"\n",
              "            style=\"display:none;\">\n",
              "\n",
              "  <svg xmlns=\"http://www.w3.org/2000/svg\" height=\"24px\" viewBox=\"0 -960 960 960\">\n",
              "    <path d=\"M120-120v-720h720v720H120Zm60-500h600v-160H180v160Zm220 220h160v-160H400v160Zm0 220h160v-160H400v160ZM180-400h160v-160H180v160Zm440 0h160v-160H620v160ZM180-180h160v-160H180v160Zm440 0h160v-160H620v160Z\"/>\n",
              "  </svg>\n",
              "    </button>\n",
              "\n",
              "  <style>\n",
              "    .colab-df-container {\n",
              "      display:flex;\n",
              "      gap: 12px;\n",
              "    }\n",
              "\n",
              "    .colab-df-convert {\n",
              "      background-color: #E8F0FE;\n",
              "      border: none;\n",
              "      border-radius: 50%;\n",
              "      cursor: pointer;\n",
              "      display: none;\n",
              "      fill: #1967D2;\n",
              "      height: 32px;\n",
              "      padding: 0 0 0 0;\n",
              "      width: 32px;\n",
              "    }\n",
              "\n",
              "    .colab-df-convert:hover {\n",
              "      background-color: #E2EBFA;\n",
              "      box-shadow: 0px 1px 2px rgba(60, 64, 67, 0.3), 0px 1px 3px 1px rgba(60, 64, 67, 0.15);\n",
              "      fill: #174EA6;\n",
              "    }\n",
              "\n",
              "    .colab-df-buttons div {\n",
              "      margin-bottom: 4px;\n",
              "    }\n",
              "\n",
              "    [theme=dark] .colab-df-convert {\n",
              "      background-color: #3B4455;\n",
              "      fill: #D2E3FC;\n",
              "    }\n",
              "\n",
              "    [theme=dark] .colab-df-convert:hover {\n",
              "      background-color: #434B5C;\n",
              "      box-shadow: 0px 1px 3px 1px rgba(0, 0, 0, 0.15);\n",
              "      filter: drop-shadow(0px 1px 2px rgba(0, 0, 0, 0.3));\n",
              "      fill: #FFFFFF;\n",
              "    }\n",
              "  </style>\n",
              "\n",
              "    <script>\n",
              "      const buttonEl =\n",
              "        document.querySelector('#df-89be9128-914f-4a16-aff9-92217260277d button.colab-df-convert');\n",
              "      buttonEl.style.display =\n",
              "        google.colab.kernel.accessAllowed ? 'block' : 'none';\n",
              "\n",
              "      async function convertToInteractive(key) {\n",
              "        const element = document.querySelector('#df-89be9128-914f-4a16-aff9-92217260277d');\n",
              "        const dataTable =\n",
              "          await google.colab.kernel.invokeFunction('convertToInteractive',\n",
              "                                                    [key], {});\n",
              "        if (!dataTable) return;\n",
              "\n",
              "        const docLinkHtml = 'Like what you see? Visit the ' +\n",
              "          '<a target=\"_blank\" href=https://colab.research.google.com/notebooks/data_table.ipynb>data table notebook</a>'\n",
              "          + ' to learn more about interactive tables.';\n",
              "        element.innerHTML = '';\n",
              "        dataTable['output_type'] = 'display_data';\n",
              "        await google.colab.output.renderOutput(dataTable, element);\n",
              "        const docLink = document.createElement('div');\n",
              "        docLink.innerHTML = docLinkHtml;\n",
              "        element.appendChild(docLink);\n",
              "      }\n",
              "    </script>\n",
              "  </div>\n",
              "\n",
              "\n",
              "<div id=\"df-4e44ec35-ce1f-4736-8481-e8e55bdddd89\">\n",
              "  <button class=\"colab-df-quickchart\" onclick=\"quickchart('df-4e44ec35-ce1f-4736-8481-e8e55bdddd89')\"\n",
              "            title=\"Suggest charts\"\n",
              "            style=\"display:none;\">\n",
              "\n",
              "<svg xmlns=\"http://www.w3.org/2000/svg\" height=\"24px\"viewBox=\"0 0 24 24\"\n",
              "     width=\"24px\">\n",
              "    <g>\n",
              "        <path d=\"M19 3H5c-1.1 0-2 .9-2 2v14c0 1.1.9 2 2 2h14c1.1 0 2-.9 2-2V5c0-1.1-.9-2-2-2zM9 17H7v-7h2v7zm4 0h-2V7h2v10zm4 0h-2v-4h2v4z\"/>\n",
              "    </g>\n",
              "</svg>\n",
              "  </button>\n",
              "\n",
              "<style>\n",
              "  .colab-df-quickchart {\n",
              "      --bg-color: #E8F0FE;\n",
              "      --fill-color: #1967D2;\n",
              "      --hover-bg-color: #E2EBFA;\n",
              "      --hover-fill-color: #174EA6;\n",
              "      --disabled-fill-color: #AAA;\n",
              "      --disabled-bg-color: #DDD;\n",
              "  }\n",
              "\n",
              "  [theme=dark] .colab-df-quickchart {\n",
              "      --bg-color: #3B4455;\n",
              "      --fill-color: #D2E3FC;\n",
              "      --hover-bg-color: #434B5C;\n",
              "      --hover-fill-color: #FFFFFF;\n",
              "      --disabled-bg-color: #3B4455;\n",
              "      --disabled-fill-color: #666;\n",
              "  }\n",
              "\n",
              "  .colab-df-quickchart {\n",
              "    background-color: var(--bg-color);\n",
              "    border: none;\n",
              "    border-radius: 50%;\n",
              "    cursor: pointer;\n",
              "    display: none;\n",
              "    fill: var(--fill-color);\n",
              "    height: 32px;\n",
              "    padding: 0;\n",
              "    width: 32px;\n",
              "  }\n",
              "\n",
              "  .colab-df-quickchart:hover {\n",
              "    background-color: var(--hover-bg-color);\n",
              "    box-shadow: 0 1px 2px rgba(60, 64, 67, 0.3), 0 1px 3px 1px rgba(60, 64, 67, 0.15);\n",
              "    fill: var(--button-hover-fill-color);\n",
              "  }\n",
              "\n",
              "  .colab-df-quickchart-complete:disabled,\n",
              "  .colab-df-quickchart-complete:disabled:hover {\n",
              "    background-color: var(--disabled-bg-color);\n",
              "    fill: var(--disabled-fill-color);\n",
              "    box-shadow: none;\n",
              "  }\n",
              "\n",
              "  .colab-df-spinner {\n",
              "    border: 2px solid var(--fill-color);\n",
              "    border-color: transparent;\n",
              "    border-bottom-color: var(--fill-color);\n",
              "    animation:\n",
              "      spin 1s steps(1) infinite;\n",
              "  }\n",
              "\n",
              "  @keyframes spin {\n",
              "    0% {\n",
              "      border-color: transparent;\n",
              "      border-bottom-color: var(--fill-color);\n",
              "      border-left-color: var(--fill-color);\n",
              "    }\n",
              "    20% {\n",
              "      border-color: transparent;\n",
              "      border-left-color: var(--fill-color);\n",
              "      border-top-color: var(--fill-color);\n",
              "    }\n",
              "    30% {\n",
              "      border-color: transparent;\n",
              "      border-left-color: var(--fill-color);\n",
              "      border-top-color: var(--fill-color);\n",
              "      border-right-color: var(--fill-color);\n",
              "    }\n",
              "    40% {\n",
              "      border-color: transparent;\n",
              "      border-right-color: var(--fill-color);\n",
              "      border-top-color: var(--fill-color);\n",
              "    }\n",
              "    60% {\n",
              "      border-color: transparent;\n",
              "      border-right-color: var(--fill-color);\n",
              "    }\n",
              "    80% {\n",
              "      border-color: transparent;\n",
              "      border-right-color: var(--fill-color);\n",
              "      border-bottom-color: var(--fill-color);\n",
              "    }\n",
              "    90% {\n",
              "      border-color: transparent;\n",
              "      border-bottom-color: var(--fill-color);\n",
              "    }\n",
              "  }\n",
              "</style>\n",
              "\n",
              "  <script>\n",
              "    async function quickchart(key) {\n",
              "      const quickchartButtonEl =\n",
              "        document.querySelector('#' + key + ' button');\n",
              "      quickchartButtonEl.disabled = true;  // To prevent multiple clicks.\n",
              "      quickchartButtonEl.classList.add('colab-df-spinner');\n",
              "      try {\n",
              "        const charts = await google.colab.kernel.invokeFunction(\n",
              "            'suggestCharts', [key], {});\n",
              "      } catch (error) {\n",
              "        console.error('Error during call to suggestCharts:', error);\n",
              "      }\n",
              "      quickchartButtonEl.classList.remove('colab-df-spinner');\n",
              "      quickchartButtonEl.classList.add('colab-df-quickchart-complete');\n",
              "    }\n",
              "    (() => {\n",
              "      let quickchartButtonEl =\n",
              "        document.querySelector('#df-4e44ec35-ce1f-4736-8481-e8e55bdddd89 button');\n",
              "      quickchartButtonEl.style.display =\n",
              "        google.colab.kernel.accessAllowed ? 'block' : 'none';\n",
              "    })();\n",
              "  </script>\n",
              "</div>\n",
              "\n",
              "    </div>\n",
              "  </div>\n"
            ],
            "application/vnd.google.colaboratory.intrinsic+json": {
              "type": "dataframe",
              "summary": "{\n  \"name\": \"df\",\n  \"rows\": 9,\n  \"fields\": [\n    {\n      \"column\": \"age_group\",\n      \"properties\": {\n        \"dtype\": \"category\",\n        \"num_unique_values\": 9,\n        \"samples\": [\n          \"80-90\",\n          \"20-30\",\n          \"60-70\"\n        ],\n        \"semantic_type\": \"\",\n        \"description\": \"\"\n      }\n    },\n    {\n      \"column\": \"sum_balance_by_age_group\",\n      \"properties\": {\n        \"dtype\": \"number\",\n        \"std\": 125479374063.08188,\n        \"min\": 0.0,\n        \"max\": 342959116000.0,\n        \"num_unique_values\": 9,\n        \"samples\": [\n          89224000.0,\n          229148377000.0,\n          2619590000.0\n        ],\n        \"semantic_type\": \"\",\n        \"description\": \"\"\n      }\n    }\n  ]\n}"
            },
            "application/vnd.google.colaboratory.module+javascript": "\n      import \"https://ssl.gstatic.com/colaboratory/data_table/881c4a0d49046431/data_table.js\";\n\n      const table = window.createDataTable({\n        data: [[{\n            'v': 0,\n            'f': \"0\",\n        },\n\"0-20\",\n{\n            'v': 1256000.0,\n            'f': \"1256000.0\",\n        }],\n [{\n            'v': 1,\n            'f': \"1\",\n        },\n\"20-30\",\n{\n            'v': 229148377000.0,\n            'f': \"229148377000.0\",\n        }],\n [{\n            'v': 2,\n            'f': \"2\",\n        },\n\"30-40\",\n{\n            'v': 342959116000.0,\n            'f': \"342959116000.0\",\n        }],\n [{\n            'v': 3,\n            'f': \"3\",\n        },\n\"40-50\",\n{\n            'v': 70308125000.0,\n            'f': \"70308125000.0\",\n        }],\n [{\n            'v': 4,\n            'f': \"4\",\n        },\n\"50-60\",\n{\n            'v': 22582847000.0,\n            'f': \"22582847000.0\",\n        }],\n [{\n            'v': 5,\n            'f': \"5\",\n        },\n\"60-70\",\n{\n            'v': 2619590000.0,\n            'f': \"2619590000.0\",\n        }],\n [{\n            'v': 6,\n            'f': \"6\",\n        },\n\"70-80\",\n{\n            'v': 624032000.0,\n            'f': \"624032000.0\",\n        }],\n [{\n            'v': 7,\n            'f': \"7\",\n        },\n\"80-90\",\n{\n            'v': 89224000.0,\n            'f': \"89224000.0\",\n        }],\n [{\n            'v': 8,\n            'f': \"8\",\n        },\n\"90-100\",\n{\n            'v': 0.0,\n            'f': \"0.0\",\n        }]],\n        columns: [[\"number\", \"index\"], [\"string\", \"age_group\"], [\"number\", \"sum_balance_by_age_group\"]],\n        columnOptions: [{\"width\": \"1px\", \"className\": \"index_column\"}],\n        rowsPerPage: 25,\n        helpUrl: \"https://colab.research.google.com/notebooks/data_table.ipynb\",\n        suppressOutputScrolling: true,\n        minimumWidth: undefined,\n      });\n\n      function appendQuickchartButton(parentElement) {\n        let quickchartButtonContainerElement = document.createElement('div');\n        quickchartButtonContainerElement.innerHTML = `\n<div id=\"df-908b7cd9-d1dc-44cf-8b05-340e853c760f\">\n  <button class=\"colab-df-quickchart\" onclick=\"quickchart('df-908b7cd9-d1dc-44cf-8b05-340e853c760f')\"\n            title=\"Suggest charts\"\n            style=\"display:none;\">\n    \n<svg xmlns=\"http://www.w3.org/2000/svg\" height=\"24px\"viewBox=\"0 0 24 24\"\n     width=\"24px\">\n    <g>\n        <path d=\"M19 3H5c-1.1 0-2 .9-2 2v14c0 1.1.9 2 2 2h14c1.1 0 2-.9 2-2V5c0-1.1-.9-2-2-2zM9 17H7v-7h2v7zm4 0h-2V7h2v10zm4 0h-2v-4h2v4z\"/>\n    </g>\n</svg>\n  </button>\n  \n<style>\n  .colab-df-quickchart {\n      --bg-color: #E8F0FE;\n      --fill-color: #1967D2;\n      --hover-bg-color: #E2EBFA;\n      --hover-fill-color: #174EA6;\n      --disabled-fill-color: #AAA;\n      --disabled-bg-color: #DDD;\n  }\n\n  [theme=dark] .colab-df-quickchart {\n      --bg-color: #3B4455;\n      --fill-color: #D2E3FC;\n      --hover-bg-color: #434B5C;\n      --hover-fill-color: #FFFFFF;\n      --disabled-bg-color: #3B4455;\n      --disabled-fill-color: #666;\n  }\n\n  .colab-df-quickchart {\n    background-color: var(--bg-color);\n    border: none;\n    border-radius: 50%;\n    cursor: pointer;\n    display: none;\n    fill: var(--fill-color);\n    height: 32px;\n    padding: 0;\n    width: 32px;\n  }\n\n  .colab-df-quickchart:hover {\n    background-color: var(--hover-bg-color);\n    box-shadow: 0 1px 2px rgba(60, 64, 67, 0.3), 0 1px 3px 1px rgba(60, 64, 67, 0.15);\n    fill: var(--button-hover-fill-color);\n  }\n\n  .colab-df-quickchart-complete:disabled,\n  .colab-df-quickchart-complete:disabled:hover {\n    background-color: var(--disabled-bg-color);\n    fill: var(--disabled-fill-color);\n    box-shadow: none;\n  }\n\n  .colab-df-spinner {\n    border: 2px solid var(--fill-color);\n    border-color: transparent;\n    border-bottom-color: var(--fill-color);\n    animation:\n      spin 1s steps(1) infinite;\n  }\n\n  @keyframes spin {\n    0% {\n      border-color: transparent;\n      border-bottom-color: var(--fill-color);\n      border-left-color: var(--fill-color);\n    }\n    20% {\n      border-color: transparent;\n      border-left-color: var(--fill-color);\n      border-top-color: var(--fill-color);\n    }\n    30% {\n      border-color: transparent;\n      border-left-color: var(--fill-color);\n      border-top-color: var(--fill-color);\n      border-right-color: var(--fill-color);\n    }\n    40% {\n      border-color: transparent;\n      border-right-color: var(--fill-color);\n      border-top-color: var(--fill-color);\n    }\n    60% {\n      border-color: transparent;\n      border-right-color: var(--fill-color);\n    }\n    80% {\n      border-color: transparent;\n      border-right-color: var(--fill-color);\n      border-bottom-color: var(--fill-color);\n    }\n    90% {\n      border-color: transparent;\n      border-bottom-color: var(--fill-color);\n    }\n  }\n</style>\n\n  <script>\n    async function quickchart(key) {\n      const quickchartButtonEl =\n        document.querySelector('#' + key + ' button');\n      quickchartButtonEl.disabled = true;  // To prevent multiple clicks.\n      quickchartButtonEl.classList.add('colab-df-spinner');\n      try {\n        const charts = await google.colab.kernel.invokeFunction(\n            'suggestCharts', [key], {});\n      } catch (error) {\n        console.error('Error during call to suggestCharts:', error);\n      }\n      quickchartButtonEl.classList.remove('colab-df-spinner');\n      quickchartButtonEl.classList.add('colab-df-quickchart-complete');\n    }\n    (() => {\n      let quickchartButtonEl =\n        document.querySelector('#df-908b7cd9-d1dc-44cf-8b05-340e853c760f button');\n      quickchartButtonEl.style.display =\n        google.colab.kernel.accessAllowed ? 'block' : 'none';\n    })();\n  </script>\n</div>`;\n        parentElement.appendChild(quickchartButtonContainerElement);\n      }\n\n      appendQuickchartButton(table);\n    "
          },
          "metadata": {},
          "execution_count": 147
        }
      ]
    },
    {
      "cell_type": "markdown",
      "source": [
        "Transaction count"
      ],
      "metadata": {
        "id": "7t4RuJDfQIUI"
      }
    },
    {
      "cell_type": "code",
      "source": [
        "df.groupby('age_group')['txn_amount'].count().reset_index(name='transaction_count')\n",
        "total_transaction_count = df['txn_amount'].count()\n",
        "total_df = pd.DataFrame({'age_group': ['Total'], 'transaction_count': [total_transaction_count]})\n",
        "pd.concat([transaction_count_by_age_group, total_df], ignore_index=True)"
      ],
      "metadata": {
        "colab": {
          "base_uri": "https://localhost:8080/",
          "height": 340
        },
        "id": "V0HREBriblBw",
        "outputId": "ed45c022-b2ba-4a8d-8129-3e5df9a125f7"
      },
      "execution_count": 145,
      "outputs": [
        {
          "output_type": "execute_result",
          "data": {
            "text/plain": [
              "  age_group  transaction_count\n",
              "0      0-20                 22\n",
              "1     20-30             130123\n",
              "2     30-40              58127\n",
              "3     40-50               8518\n",
              "4     50-60               2532\n",
              "5     60-70                571\n",
              "6     70-80                 91\n",
              "7     80-90                  2\n",
              "8    90-100                  0\n",
              "9     Total             199986"
            ],
            "text/html": [
              "\n",
              "  <div id=\"df-5a66bbbe-59f2-4d57-8fce-b5d7ee2cbcff\" class=\"colab-df-container\">\n",
              "    <div>\n",
              "<style scoped>\n",
              "    .dataframe tbody tr th:only-of-type {\n",
              "        vertical-align: middle;\n",
              "    }\n",
              "\n",
              "    .dataframe tbody tr th {\n",
              "        vertical-align: top;\n",
              "    }\n",
              "\n",
              "    .dataframe thead th {\n",
              "        text-align: right;\n",
              "    }\n",
              "</style>\n",
              "<table border=\"1\" class=\"dataframe\">\n",
              "  <thead>\n",
              "    <tr style=\"text-align: right;\">\n",
              "      <th></th>\n",
              "      <th>age_group</th>\n",
              "      <th>transaction_count</th>\n",
              "    </tr>\n",
              "  </thead>\n",
              "  <tbody>\n",
              "    <tr>\n",
              "      <th>0</th>\n",
              "      <td>0-20</td>\n",
              "      <td>22</td>\n",
              "    </tr>\n",
              "    <tr>\n",
              "      <th>1</th>\n",
              "      <td>20-30</td>\n",
              "      <td>130123</td>\n",
              "    </tr>\n",
              "    <tr>\n",
              "      <th>2</th>\n",
              "      <td>30-40</td>\n",
              "      <td>58127</td>\n",
              "    </tr>\n",
              "    <tr>\n",
              "      <th>3</th>\n",
              "      <td>40-50</td>\n",
              "      <td>8518</td>\n",
              "    </tr>\n",
              "    <tr>\n",
              "      <th>4</th>\n",
              "      <td>50-60</td>\n",
              "      <td>2532</td>\n",
              "    </tr>\n",
              "    <tr>\n",
              "      <th>5</th>\n",
              "      <td>60-70</td>\n",
              "      <td>571</td>\n",
              "    </tr>\n",
              "    <tr>\n",
              "      <th>6</th>\n",
              "      <td>70-80</td>\n",
              "      <td>91</td>\n",
              "    </tr>\n",
              "    <tr>\n",
              "      <th>7</th>\n",
              "      <td>80-90</td>\n",
              "      <td>2</td>\n",
              "    </tr>\n",
              "    <tr>\n",
              "      <th>8</th>\n",
              "      <td>90-100</td>\n",
              "      <td>0</td>\n",
              "    </tr>\n",
              "    <tr>\n",
              "      <th>9</th>\n",
              "      <td>Total</td>\n",
              "      <td>199986</td>\n",
              "    </tr>\n",
              "  </tbody>\n",
              "</table>\n",
              "</div>\n",
              "    <div class=\"colab-df-buttons\">\n",
              "\n",
              "  <div class=\"colab-df-container\">\n",
              "    <button class=\"colab-df-convert\" onclick=\"convertToInteractive('df-5a66bbbe-59f2-4d57-8fce-b5d7ee2cbcff')\"\n",
              "            title=\"Convert this dataframe to an interactive table.\"\n",
              "            style=\"display:none;\">\n",
              "\n",
              "  <svg xmlns=\"http://www.w3.org/2000/svg\" height=\"24px\" viewBox=\"0 -960 960 960\">\n",
              "    <path d=\"M120-120v-720h720v720H120Zm60-500h600v-160H180v160Zm220 220h160v-160H400v160Zm0 220h160v-160H400v160ZM180-400h160v-160H180v160Zm440 0h160v-160H620v160ZM180-180h160v-160H180v160Zm440 0h160v-160H620v160Z\"/>\n",
              "  </svg>\n",
              "    </button>\n",
              "\n",
              "  <style>\n",
              "    .colab-df-container {\n",
              "      display:flex;\n",
              "      gap: 12px;\n",
              "    }\n",
              "\n",
              "    .colab-df-convert {\n",
              "      background-color: #E8F0FE;\n",
              "      border: none;\n",
              "      border-radius: 50%;\n",
              "      cursor: pointer;\n",
              "      display: none;\n",
              "      fill: #1967D2;\n",
              "      height: 32px;\n",
              "      padding: 0 0 0 0;\n",
              "      width: 32px;\n",
              "    }\n",
              "\n",
              "    .colab-df-convert:hover {\n",
              "      background-color: #E2EBFA;\n",
              "      box-shadow: 0px 1px 2px rgba(60, 64, 67, 0.3), 0px 1px 3px 1px rgba(60, 64, 67, 0.15);\n",
              "      fill: #174EA6;\n",
              "    }\n",
              "\n",
              "    .colab-df-buttons div {\n",
              "      margin-bottom: 4px;\n",
              "    }\n",
              "\n",
              "    [theme=dark] .colab-df-convert {\n",
              "      background-color: #3B4455;\n",
              "      fill: #D2E3FC;\n",
              "    }\n",
              "\n",
              "    [theme=dark] .colab-df-convert:hover {\n",
              "      background-color: #434B5C;\n",
              "      box-shadow: 0px 1px 3px 1px rgba(0, 0, 0, 0.15);\n",
              "      filter: drop-shadow(0px 1px 2px rgba(0, 0, 0, 0.3));\n",
              "      fill: #FFFFFF;\n",
              "    }\n",
              "  </style>\n",
              "\n",
              "    <script>\n",
              "      const buttonEl =\n",
              "        document.querySelector('#df-5a66bbbe-59f2-4d57-8fce-b5d7ee2cbcff button.colab-df-convert');\n",
              "      buttonEl.style.display =\n",
              "        google.colab.kernel.accessAllowed ? 'block' : 'none';\n",
              "\n",
              "      async function convertToInteractive(key) {\n",
              "        const element = document.querySelector('#df-5a66bbbe-59f2-4d57-8fce-b5d7ee2cbcff');\n",
              "        const dataTable =\n",
              "          await google.colab.kernel.invokeFunction('convertToInteractive',\n",
              "                                                    [key], {});\n",
              "        if (!dataTable) return;\n",
              "\n",
              "        const docLinkHtml = 'Like what you see? Visit the ' +\n",
              "          '<a target=\"_blank\" href=https://colab.research.google.com/notebooks/data_table.ipynb>data table notebook</a>'\n",
              "          + ' to learn more about interactive tables.';\n",
              "        element.innerHTML = '';\n",
              "        dataTable['output_type'] = 'display_data';\n",
              "        await google.colab.output.renderOutput(dataTable, element);\n",
              "        const docLink = document.createElement('div');\n",
              "        docLink.innerHTML = docLinkHtml;\n",
              "        element.appendChild(docLink);\n",
              "      }\n",
              "    </script>\n",
              "  </div>\n",
              "\n",
              "\n",
              "<div id=\"df-7f959f46-e3a7-4a1b-8ed6-bd9a18a57b4b\">\n",
              "  <button class=\"colab-df-quickchart\" onclick=\"quickchart('df-7f959f46-e3a7-4a1b-8ed6-bd9a18a57b4b')\"\n",
              "            title=\"Suggest charts\"\n",
              "            style=\"display:none;\">\n",
              "\n",
              "<svg xmlns=\"http://www.w3.org/2000/svg\" height=\"24px\"viewBox=\"0 0 24 24\"\n",
              "     width=\"24px\">\n",
              "    <g>\n",
              "        <path d=\"M19 3H5c-1.1 0-2 .9-2 2v14c0 1.1.9 2 2 2h14c1.1 0 2-.9 2-2V5c0-1.1-.9-2-2-2zM9 17H7v-7h2v7zm4 0h-2V7h2v10zm4 0h-2v-4h2v4z\"/>\n",
              "    </g>\n",
              "</svg>\n",
              "  </button>\n",
              "\n",
              "<style>\n",
              "  .colab-df-quickchart {\n",
              "      --bg-color: #E8F0FE;\n",
              "      --fill-color: #1967D2;\n",
              "      --hover-bg-color: #E2EBFA;\n",
              "      --hover-fill-color: #174EA6;\n",
              "      --disabled-fill-color: #AAA;\n",
              "      --disabled-bg-color: #DDD;\n",
              "  }\n",
              "\n",
              "  [theme=dark] .colab-df-quickchart {\n",
              "      --bg-color: #3B4455;\n",
              "      --fill-color: #D2E3FC;\n",
              "      --hover-bg-color: #434B5C;\n",
              "      --hover-fill-color: #FFFFFF;\n",
              "      --disabled-bg-color: #3B4455;\n",
              "      --disabled-fill-color: #666;\n",
              "  }\n",
              "\n",
              "  .colab-df-quickchart {\n",
              "    background-color: var(--bg-color);\n",
              "    border: none;\n",
              "    border-radius: 50%;\n",
              "    cursor: pointer;\n",
              "    display: none;\n",
              "    fill: var(--fill-color);\n",
              "    height: 32px;\n",
              "    padding: 0;\n",
              "    width: 32px;\n",
              "  }\n",
              "\n",
              "  .colab-df-quickchart:hover {\n",
              "    background-color: var(--hover-bg-color);\n",
              "    box-shadow: 0 1px 2px rgba(60, 64, 67, 0.3), 0 1px 3px 1px rgba(60, 64, 67, 0.15);\n",
              "    fill: var(--button-hover-fill-color);\n",
              "  }\n",
              "\n",
              "  .colab-df-quickchart-complete:disabled,\n",
              "  .colab-df-quickchart-complete:disabled:hover {\n",
              "    background-color: var(--disabled-bg-color);\n",
              "    fill: var(--disabled-fill-color);\n",
              "    box-shadow: none;\n",
              "  }\n",
              "\n",
              "  .colab-df-spinner {\n",
              "    border: 2px solid var(--fill-color);\n",
              "    border-color: transparent;\n",
              "    border-bottom-color: var(--fill-color);\n",
              "    animation:\n",
              "      spin 1s steps(1) infinite;\n",
              "  }\n",
              "\n",
              "  @keyframes spin {\n",
              "    0% {\n",
              "      border-color: transparent;\n",
              "      border-bottom-color: var(--fill-color);\n",
              "      border-left-color: var(--fill-color);\n",
              "    }\n",
              "    20% {\n",
              "      border-color: transparent;\n",
              "      border-left-color: var(--fill-color);\n",
              "      border-top-color: var(--fill-color);\n",
              "    }\n",
              "    30% {\n",
              "      border-color: transparent;\n",
              "      border-left-color: var(--fill-color);\n",
              "      border-top-color: var(--fill-color);\n",
              "      border-right-color: var(--fill-color);\n",
              "    }\n",
              "    40% {\n",
              "      border-color: transparent;\n",
              "      border-right-color: var(--fill-color);\n",
              "      border-top-color: var(--fill-color);\n",
              "    }\n",
              "    60% {\n",
              "      border-color: transparent;\n",
              "      border-right-color: var(--fill-color);\n",
              "    }\n",
              "    80% {\n",
              "      border-color: transparent;\n",
              "      border-right-color: var(--fill-color);\n",
              "      border-bottom-color: var(--fill-color);\n",
              "    }\n",
              "    90% {\n",
              "      border-color: transparent;\n",
              "      border-bottom-color: var(--fill-color);\n",
              "    }\n",
              "  }\n",
              "</style>\n",
              "\n",
              "  <script>\n",
              "    async function quickchart(key) {\n",
              "      const quickchartButtonEl =\n",
              "        document.querySelector('#' + key + ' button');\n",
              "      quickchartButtonEl.disabled = true;  // To prevent multiple clicks.\n",
              "      quickchartButtonEl.classList.add('colab-df-spinner');\n",
              "      try {\n",
              "        const charts = await google.colab.kernel.invokeFunction(\n",
              "            'suggestCharts', [key], {});\n",
              "      } catch (error) {\n",
              "        console.error('Error during call to suggestCharts:', error);\n",
              "      }\n",
              "      quickchartButtonEl.classList.remove('colab-df-spinner');\n",
              "      quickchartButtonEl.classList.add('colab-df-quickchart-complete');\n",
              "    }\n",
              "    (() => {\n",
              "      let quickchartButtonEl =\n",
              "        document.querySelector('#df-7f959f46-e3a7-4a1b-8ed6-bd9a18a57b4b button');\n",
              "      quickchartButtonEl.style.display =\n",
              "        google.colab.kernel.accessAllowed ? 'block' : 'none';\n",
              "    })();\n",
              "  </script>\n",
              "</div>\n",
              "\n",
              "    </div>\n",
              "  </div>\n"
            ],
            "application/vnd.google.colaboratory.intrinsic+json": {
              "type": "dataframe",
              "summary": "{\n  \"name\": \"pd\",\n  \"rows\": 10,\n  \"fields\": [\n    {\n      \"column\": \"age_group\",\n      \"properties\": {\n        \"dtype\": \"string\",\n        \"num_unique_values\": 10,\n        \"samples\": [\n          \"90-100\",\n          \"20-30\",\n          \"60-70\"\n        ],\n        \"semantic_type\": \"\",\n        \"description\": \"\"\n      }\n    },\n    {\n      \"column\": \"transaction_count\",\n      \"properties\": {\n        \"dtype\": \"number\",\n        \"std\": 70227,\n        \"min\": 0,\n        \"max\": 199986,\n        \"num_unique_values\": 10,\n        \"samples\": [\n          0,\n          130123,\n          571\n        ],\n        \"semantic_type\": \"\",\n        \"description\": \"\"\n      }\n    }\n  ]\n}"
            },
            "application/vnd.google.colaboratory.module+javascript": "\n      import \"https://ssl.gstatic.com/colaboratory/data_table/881c4a0d49046431/data_table.js\";\n\n      const table = window.createDataTable({\n        data: [[{\n            'v': 0,\n            'f': \"0\",\n        },\n\"0-20\",\n{\n            'v': 22,\n            'f': \"22\",\n        }],\n [{\n            'v': 1,\n            'f': \"1\",\n        },\n\"20-30\",\n{\n            'v': 130123,\n            'f': \"130123\",\n        }],\n [{\n            'v': 2,\n            'f': \"2\",\n        },\n\"30-40\",\n{\n            'v': 58127,\n            'f': \"58127\",\n        }],\n [{\n            'v': 3,\n            'f': \"3\",\n        },\n\"40-50\",\n{\n            'v': 8518,\n            'f': \"8518\",\n        }],\n [{\n            'v': 4,\n            'f': \"4\",\n        },\n\"50-60\",\n{\n            'v': 2532,\n            'f': \"2532\",\n        }],\n [{\n            'v': 5,\n            'f': \"5\",\n        },\n\"60-70\",\n{\n            'v': 571,\n            'f': \"571\",\n        }],\n [{\n            'v': 6,\n            'f': \"6\",\n        },\n\"70-80\",\n{\n            'v': 91,\n            'f': \"91\",\n        }],\n [{\n            'v': 7,\n            'f': \"7\",\n        },\n\"80-90\",\n{\n            'v': 2,\n            'f': \"2\",\n        }],\n [{\n            'v': 8,\n            'f': \"8\",\n        },\n\"90-100\",\n{\n            'v': 0,\n            'f': \"0\",\n        }],\n [{\n            'v': 9,\n            'f': \"9\",\n        },\n\"Total\",\n{\n            'v': 199986,\n            'f': \"199986\",\n        }]],\n        columns: [[\"number\", \"index\"], [\"string\", \"age_group\"], [\"number\", \"transaction_count\"]],\n        columnOptions: [{\"width\": \"1px\", \"className\": \"index_column\"}],\n        rowsPerPage: 25,\n        helpUrl: \"https://colab.research.google.com/notebooks/data_table.ipynb\",\n        suppressOutputScrolling: true,\n        minimumWidth: undefined,\n      });\n\n      function appendQuickchartButton(parentElement) {\n        let quickchartButtonContainerElement = document.createElement('div');\n        quickchartButtonContainerElement.innerHTML = `\n<div id=\"df-5c024549-55c7-4f9d-ac0d-dd416d424b79\">\n  <button class=\"colab-df-quickchart\" onclick=\"quickchart('df-5c024549-55c7-4f9d-ac0d-dd416d424b79')\"\n            title=\"Suggest charts\"\n            style=\"display:none;\">\n    \n<svg xmlns=\"http://www.w3.org/2000/svg\" height=\"24px\"viewBox=\"0 0 24 24\"\n     width=\"24px\">\n    <g>\n        <path d=\"M19 3H5c-1.1 0-2 .9-2 2v14c0 1.1.9 2 2 2h14c1.1 0 2-.9 2-2V5c0-1.1-.9-2-2-2zM9 17H7v-7h2v7zm4 0h-2V7h2v10zm4 0h-2v-4h2v4z\"/>\n    </g>\n</svg>\n  </button>\n  \n<style>\n  .colab-df-quickchart {\n      --bg-color: #E8F0FE;\n      --fill-color: #1967D2;\n      --hover-bg-color: #E2EBFA;\n      --hover-fill-color: #174EA6;\n      --disabled-fill-color: #AAA;\n      --disabled-bg-color: #DDD;\n  }\n\n  [theme=dark] .colab-df-quickchart {\n      --bg-color: #3B4455;\n      --fill-color: #D2E3FC;\n      --hover-bg-color: #434B5C;\n      --hover-fill-color: #FFFFFF;\n      --disabled-bg-color: #3B4455;\n      --disabled-fill-color: #666;\n  }\n\n  .colab-df-quickchart {\n    background-color: var(--bg-color);\n    border: none;\n    border-radius: 50%;\n    cursor: pointer;\n    display: none;\n    fill: var(--fill-color);\n    height: 32px;\n    padding: 0;\n    width: 32px;\n  }\n\n  .colab-df-quickchart:hover {\n    background-color: var(--hover-bg-color);\n    box-shadow: 0 1px 2px rgba(60, 64, 67, 0.3), 0 1px 3px 1px rgba(60, 64, 67, 0.15);\n    fill: var(--button-hover-fill-color);\n  }\n\n  .colab-df-quickchart-complete:disabled,\n  .colab-df-quickchart-complete:disabled:hover {\n    background-color: var(--disabled-bg-color);\n    fill: var(--disabled-fill-color);\n    box-shadow: none;\n  }\n\n  .colab-df-spinner {\n    border: 2px solid var(--fill-color);\n    border-color: transparent;\n    border-bottom-color: var(--fill-color);\n    animation:\n      spin 1s steps(1) infinite;\n  }\n\n  @keyframes spin {\n    0% {\n      border-color: transparent;\n      border-bottom-color: var(--fill-color);\n      border-left-color: var(--fill-color);\n    }\n    20% {\n      border-color: transparent;\n      border-left-color: var(--fill-color);\n      border-top-color: var(--fill-color);\n    }\n    30% {\n      border-color: transparent;\n      border-left-color: var(--fill-color);\n      border-top-color: var(--fill-color);\n      border-right-color: var(--fill-color);\n    }\n    40% {\n      border-color: transparent;\n      border-right-color: var(--fill-color);\n      border-top-color: var(--fill-color);\n    }\n    60% {\n      border-color: transparent;\n      border-right-color: var(--fill-color);\n    }\n    80% {\n      border-color: transparent;\n      border-right-color: var(--fill-color);\n      border-bottom-color: var(--fill-color);\n    }\n    90% {\n      border-color: transparent;\n      border-bottom-color: var(--fill-color);\n    }\n  }\n</style>\n\n  <script>\n    async function quickchart(key) {\n      const quickchartButtonEl =\n        document.querySelector('#' + key + ' button');\n      quickchartButtonEl.disabled = true;  // To prevent multiple clicks.\n      quickchartButtonEl.classList.add('colab-df-spinner');\n      try {\n        const charts = await google.colab.kernel.invokeFunction(\n            'suggestCharts', [key], {});\n      } catch (error) {\n        console.error('Error during call to suggestCharts:', error);\n      }\n      quickchartButtonEl.classList.remove('colab-df-spinner');\n      quickchartButtonEl.classList.add('colab-df-quickchart-complete');\n    }\n    (() => {\n      let quickchartButtonEl =\n        document.querySelector('#df-5c024549-55c7-4f9d-ac0d-dd416d424b79 button');\n      quickchartButtonEl.style.display =\n        google.colab.kernel.accessAllowed ? 'block' : 'none';\n    })();\n  </script>\n</div>`;\n        parentElement.appendChild(quickchartButtonContainerElement);\n      }\n\n      appendQuickchartButton(table);\n    "
          },
          "metadata": {},
          "execution_count": 145
        }
      ]
    },
    {
      "cell_type": "markdown",
      "source": [
        "Average transaction value"
      ],
      "metadata": {
        "id": "AUEkHZi9Vq24"
      }
    },
    {
      "cell_type": "code",
      "source": [
        "data_table.enable_dataframe_formatter()\n",
        "age_group_balance['average_transaction_value'] = (age_group_balance['sum_balance_by_age_group'] / transaction_count_by_age_group['transaction_count'])\n",
        "data_table.DataTable(age_group_balance)"
      ],
      "metadata": {
        "colab": {
          "base_uri": "https://localhost:8080/",
          "height": 318
        },
        "id": "2qi2LXHfa9YF",
        "outputId": "a90c67b3-7d2d-4ef9-bde1-d8f65734714e"
      },
      "execution_count": 282,
      "outputs": [
        {
          "output_type": "execute_result",
          "data": {
            "text/html": [
              "<div>\n",
              "<style scoped>\n",
              "    .dataframe tbody tr th:only-of-type {\n",
              "        vertical-align: middle;\n",
              "    }\n",
              "\n",
              "    .dataframe tbody tr th {\n",
              "        vertical-align: top;\n",
              "    }\n",
              "\n",
              "    .dataframe thead th {\n",
              "        text-align: right;\n",
              "    }\n",
              "</style>\n",
              "<table border=\"1\" class=\"dataframe\">\n",
              "  <thead>\n",
              "    <tr style=\"text-align: right;\">\n",
              "      <th></th>\n",
              "      <th>age_group</th>\n",
              "      <th>sum_balance_by_age_group</th>\n",
              "      <th>average_transaction_value</th>\n",
              "    </tr>\n",
              "  </thead>\n",
              "  <tbody>\n",
              "    <tr>\n",
              "      <th>0</th>\n",
              "      <td>0-20</td>\n",
              "      <td>1.256000e+06</td>\n",
              "      <td>5.709091e+04</td>\n",
              "    </tr>\n",
              "    <tr>\n",
              "      <th>1</th>\n",
              "      <td>20-30</td>\n",
              "      <td>2.291484e+11</td>\n",
              "      <td>1.761014e+06</td>\n",
              "    </tr>\n",
              "    <tr>\n",
              "      <th>2</th>\n",
              "      <td>30-40</td>\n",
              "      <td>3.429591e+11</td>\n",
              "      <td>5.900169e+06</td>\n",
              "    </tr>\n",
              "    <tr>\n",
              "      <th>3</th>\n",
              "      <td>40-50</td>\n",
              "      <td>7.030812e+10</td>\n",
              "      <td>8.254065e+06</td>\n",
              "    </tr>\n",
              "    <tr>\n",
              "      <th>4</th>\n",
              "      <td>50-60</td>\n",
              "      <td>2.258285e+10</td>\n",
              "      <td>8.918976e+06</td>\n",
              "    </tr>\n",
              "    <tr>\n",
              "      <th>5</th>\n",
              "      <td>60-70</td>\n",
              "      <td>2.619590e+09</td>\n",
              "      <td>4.587723e+06</td>\n",
              "    </tr>\n",
              "    <tr>\n",
              "      <th>6</th>\n",
              "      <td>70-80</td>\n",
              "      <td>6.240320e+08</td>\n",
              "      <td>6.857495e+06</td>\n",
              "    </tr>\n",
              "    <tr>\n",
              "      <th>7</th>\n",
              "      <td>80-90</td>\n",
              "      <td>8.922400e+07</td>\n",
              "      <td>4.461200e+07</td>\n",
              "    </tr>\n",
              "    <tr>\n",
              "      <th>8</th>\n",
              "      <td>90-100</td>\n",
              "      <td>0.000000e+00</td>\n",
              "      <td>NaN</td>\n",
              "    </tr>\n",
              "  </tbody>\n",
              "</table>\n",
              "</div>"
            ],
            "application/vnd.google.colaboratory.module+javascript": "\n      import \"https://ssl.gstatic.com/colaboratory/data_table/881c4a0d49046431/data_table.js\";\n\n      const table = window.createDataTable({\n        data: [[{\n            'v': 0,\n            'f': \"0\",\n        },\n\"0-20\",\n{\n            'v': 1256000.0,\n            'f': \"1256000.0\",\n        },\n{\n            'v': 57090.90909090909,\n            'f': \"57090.90909090909\",\n        }],\n [{\n            'v': 1,\n            'f': \"1\",\n        },\n\"20-30\",\n{\n            'v': 229148377000.0,\n            'f': \"229148377000.0\",\n        },\n{\n            'v': 1761013.6332546899,\n            'f': \"1761013.6332546899\",\n        }],\n [{\n            'v': 2,\n            'f': \"2\",\n        },\n\"30-40\",\n{\n            'v': 342959116000.0,\n            'f': \"342959116000.0\",\n        },\n{\n            'v': 5900168.871608719,\n            'f': \"5900168.871608719\",\n        }],\n [{\n            'v': 3,\n            'f': \"3\",\n        },\n\"40-50\",\n{\n            'v': 70308125000.0,\n            'f': \"70308125000.0\",\n        },\n{\n            'v': 8254064.921343038,\n            'f': \"8254064.921343038\",\n        }],\n [{\n            'v': 4,\n            'f': \"4\",\n        },\n\"50-60\",\n{\n            'v': 22582847000.0,\n            'f': \"22582847000.0\",\n        },\n{\n            'v': 8918975.908372827,\n            'f': \"8918975.908372827\",\n        }],\n [{\n            'v': 5,\n            'f': \"5\",\n        },\n\"60-70\",\n{\n            'v': 2619590000.0,\n            'f': \"2619590000.0\",\n        },\n{\n            'v': 4587723.292469352,\n            'f': \"4587723.292469352\",\n        }],\n [{\n            'v': 6,\n            'f': \"6\",\n        },\n\"70-80\",\n{\n            'v': 624032000.0,\n            'f': \"624032000.0\",\n        },\n{\n            'v': 6857494.505494505,\n            'f': \"6857494.505494505\",\n        }],\n [{\n            'v': 7,\n            'f': \"7\",\n        },\n\"80-90\",\n{\n            'v': 89224000.0,\n            'f': \"89224000.0\",\n        },\n{\n            'v': 44612000.0,\n            'f': \"44612000.0\",\n        }],\n [{\n            'v': 8,\n            'f': \"8\",\n        },\n\"90-100\",\n{\n            'v': 0.0,\n            'f': \"0.0\",\n        },\n{\n            'v': NaN,\n            'f': \"NaN\",\n        }]],\n        columns: [[\"number\", \"index\"], [\"string\", \"age_group\"], [\"number\", \"sum_balance_by_age_group\"], [\"number\", \"average_transaction_value\"]],\n        columnOptions: [{\"width\": \"1px\", \"className\": \"index_column\"}],\n        rowsPerPage: 25,\n        helpUrl: \"https://colab.research.google.com/notebooks/data_table.ipynb\",\n        suppressOutputScrolling: true,\n        minimumWidth: undefined,\n      });\n\n      function appendQuickchartButton(parentElement) {\n        let quickchartButtonContainerElement = document.createElement('div');\n        quickchartButtonContainerElement.innerHTML = `\n<div id=\"df-6f7d4101-b935-4bec-a313-6c70ff9ff17a\">\n  <button class=\"colab-df-quickchart\" onclick=\"quickchart('df-6f7d4101-b935-4bec-a313-6c70ff9ff17a')\"\n            title=\"Suggest charts\"\n            style=\"display:none;\">\n    \n<svg xmlns=\"http://www.w3.org/2000/svg\" height=\"24px\"viewBox=\"0 0 24 24\"\n     width=\"24px\">\n    <g>\n        <path d=\"M19 3H5c-1.1 0-2 .9-2 2v14c0 1.1.9 2 2 2h14c1.1 0 2-.9 2-2V5c0-1.1-.9-2-2-2zM9 17H7v-7h2v7zm4 0h-2V7h2v10zm4 0h-2v-4h2v4z\"/>\n    </g>\n</svg>\n  </button>\n  \n<style>\n  .colab-df-quickchart {\n      --bg-color: #E8F0FE;\n      --fill-color: #1967D2;\n      --hover-bg-color: #E2EBFA;\n      --hover-fill-color: #174EA6;\n      --disabled-fill-color: #AAA;\n      --disabled-bg-color: #DDD;\n  }\n\n  [theme=dark] .colab-df-quickchart {\n      --bg-color: #3B4455;\n      --fill-color: #D2E3FC;\n      --hover-bg-color: #434B5C;\n      --hover-fill-color: #FFFFFF;\n      --disabled-bg-color: #3B4455;\n      --disabled-fill-color: #666;\n  }\n\n  .colab-df-quickchart {\n    background-color: var(--bg-color);\n    border: none;\n    border-radius: 50%;\n    cursor: pointer;\n    display: none;\n    fill: var(--fill-color);\n    height: 32px;\n    padding: 0;\n    width: 32px;\n  }\n\n  .colab-df-quickchart:hover {\n    background-color: var(--hover-bg-color);\n    box-shadow: 0 1px 2px rgba(60, 64, 67, 0.3), 0 1px 3px 1px rgba(60, 64, 67, 0.15);\n    fill: var(--button-hover-fill-color);\n  }\n\n  .colab-df-quickchart-complete:disabled,\n  .colab-df-quickchart-complete:disabled:hover {\n    background-color: var(--disabled-bg-color);\n    fill: var(--disabled-fill-color);\n    box-shadow: none;\n  }\n\n  .colab-df-spinner {\n    border: 2px solid var(--fill-color);\n    border-color: transparent;\n    border-bottom-color: var(--fill-color);\n    animation:\n      spin 1s steps(1) infinite;\n  }\n\n  @keyframes spin {\n    0% {\n      border-color: transparent;\n      border-bottom-color: var(--fill-color);\n      border-left-color: var(--fill-color);\n    }\n    20% {\n      border-color: transparent;\n      border-left-color: var(--fill-color);\n      border-top-color: var(--fill-color);\n    }\n    30% {\n      border-color: transparent;\n      border-left-color: var(--fill-color);\n      border-top-color: var(--fill-color);\n      border-right-color: var(--fill-color);\n    }\n    40% {\n      border-color: transparent;\n      border-right-color: var(--fill-color);\n      border-top-color: var(--fill-color);\n    }\n    60% {\n      border-color: transparent;\n      border-right-color: var(--fill-color);\n    }\n    80% {\n      border-color: transparent;\n      border-right-color: var(--fill-color);\n      border-bottom-color: var(--fill-color);\n    }\n    90% {\n      border-color: transparent;\n      border-bottom-color: var(--fill-color);\n    }\n  }\n</style>\n\n  <script>\n    async function quickchart(key) {\n      const quickchartButtonEl =\n        document.querySelector('#' + key + ' button');\n      quickchartButtonEl.disabled = true;  // To prevent multiple clicks.\n      quickchartButtonEl.classList.add('colab-df-spinner');\n      try {\n        const charts = await google.colab.kernel.invokeFunction(\n            'suggestCharts', [key], {});\n      } catch (error) {\n        console.error('Error during call to suggestCharts:', error);\n      }\n      quickchartButtonEl.classList.remove('colab-df-spinner');\n      quickchartButtonEl.classList.add('colab-df-quickchart-complete');\n    }\n    (() => {\n      let quickchartButtonEl =\n        document.querySelector('#df-6f7d4101-b935-4bec-a313-6c70ff9ff17a button');\n      quickchartButtonEl.style.display =\n        google.colab.kernel.accessAllowed ? 'block' : 'none';\n    })();\n  </script>\n</div>`;\n        parentElement.appendChild(quickchartButtonContainerElement);\n      }\n\n      appendQuickchartButton(table);\n    ",
            "text/plain": [
              "<google.colab.data_table.DataTable object>"
            ]
          },
          "metadata": {},
          "execution_count": 282
        }
      ]
    },
    {
      "cell_type": "markdown",
      "source": [
        "## **Transaction**\n",
        "Trends in Q1/2021"
      ],
      "metadata": {
        "id": "S4TkhBRCjBn7"
      }
    },
    {
      "cell_type": "code",
      "source": [
        "transaction_value_by_month_and_type = df.groupby(['month', 'txn_type_code'])['txn_abs'].sum().reset_index()\n",
        "pivot_table = transaction_value_by_month_and_type.pivot(index='month', columns='txn_type_code', values='txn_abs')\n",
        "\n",
        "# Plotting\n",
        "plt.figure(figsize=(10, 6))\n",
        "for column in pivot_table.columns:\n",
        "    plt.plot(pivot_table.index, pivot_table[column], marker='o', label=column)\n",
        "\n",
        "plt.xlabel('Month')\n",
        "plt.ylabel('Total Transaction Value')\n",
        "plt.title('Transaction Value by Month and Type (Unit)')\n",
        "plt.xticks(pivot_table.index)\n",
        "plt.legend()\n",
        "plt.grid(axis='y', linestyle='--', alpha=0.7)\n",
        "plt.show()"
      ],
      "metadata": {
        "colab": {
          "base_uri": "https://localhost:8080/",
          "height": 564
        },
        "id": "nIYfGMtnmg5l",
        "outputId": "1ef0c3f5-562e-499c-baa5-72fa8e74b8f0"
      },
      "execution_count": 175,
      "outputs": [
        {
          "output_type": "display_data",
          "data": {
            "text/plain": [
              "<Figure size 1000x600 with 1 Axes>"
            ],
            "image/png": "[encoded data removed]"
          },
          "metadata": {}
        }
      ]
    },
    {
      "cell_type": "markdown",
      "source": [
        "Average transaction value by type"
      ],
      "metadata": {
        "id": "F8LYgCO9AH3j"
      }
    },
    {
      "cell_type": "code",
      "source": [
        "avg_transaction_by_type = df.groupby('txn_type_code')['txn_abs'].mean().reset_index()\n",
        "avg_transaction_by_type.columns = ['Transaction Type', 'Average Transaction Value']\n",
        "display(data_table.DataTable(avg_transaction_by_type))"
      ],
      "metadata": {
        "colab": {
          "base_uri": "https://localhost:8080/",
          "height": 275
        },
        "id": "YC_L5HYFAG_N",
        "outputId": "4c614bc3-905f-4cd1-c808-533a94eafa9d"
      },
      "execution_count": 177,
      "outputs": [
        {
          "output_type": "display_data",
          "data": {
            "text/html": [
              "<div>\n",
              "<style scoped>\n",
              "    .dataframe tbody tr th:only-of-type {\n",
              "        vertical-align: middle;\n",
              "    }\n",
              "\n",
              "    .dataframe tbody tr th {\n",
              "        vertical-align: top;\n",
              "    }\n",
              "\n",
              "    .dataframe thead th {\n",
              "        text-align: right;\n",
              "    }\n",
              "</style>\n",
              "<table border=\"1\" class=\"dataframe\">\n",
              "  <thead>\n",
              "    <tr style=\"text-align: right;\">\n",
              "      <th></th>\n",
              "      <th>Transaction Type</th>\n",
              "      <th>Average Transaction Value</th>\n",
              "    </tr>\n",
              "  </thead>\n",
              "  <tbody>\n",
              "    <tr>\n",
              "      <th>0</th>\n",
              "      <td>1.0</td>\n",
              "      <td>3.337206e+06</td>\n",
              "    </tr>\n",
              "    <tr>\n",
              "      <th>1</th>\n",
              "      <td>2.0</td>\n",
              "      <td>3.921360e+06</td>\n",
              "    </tr>\n",
              "    <tr>\n",
              "      <th>2</th>\n",
              "      <td>3.0</td>\n",
              "      <td>2.304939e+06</td>\n",
              "    </tr>\n",
              "    <tr>\n",
              "      <th>3</th>\n",
              "      <td>4.0</td>\n",
              "      <td>1.957081e+05</td>\n",
              "    </tr>\n",
              "    <tr>\n",
              "      <th>4</th>\n",
              "      <td>5.0</td>\n",
              "      <td>6.518351e+04</td>\n",
              "    </tr>\n",
              "    <tr>\n",
              "      <th>5</th>\n",
              "      <td>6.0</td>\n",
              "      <td>3.367284e+04</td>\n",
              "    </tr>\n",
              "    <tr>\n",
              "      <th>6</th>\n",
              "      <td>7.0</td>\n",
              "      <td>3.293616e+06</td>\n",
              "    </tr>\n",
              "  </tbody>\n",
              "</table>\n",
              "</div>"
            ],
            "application/vnd.google.colaboratory.module+javascript": "\n      import \"https://ssl.gstatic.com/colaboratory/data_table/881c4a0d49046431/data_table.js\";\n\n      const table = window.createDataTable({\n        data: [[{\n            'v': 0,\n            'f': \"0\",\n        },\n{\n            'v': 1.0,\n            'f': \"1.0\",\n        },\n{\n            'v': 3337206.020617172,\n            'f': \"3337206.020617172\",\n        }],\n [{\n            'v': 1,\n            'f': \"1\",\n        },\n{\n            'v': 2.0,\n            'f': \"2.0\",\n        },\n{\n            'v': 3921360.1446643188,\n            'f': \"3921360.1446643188\",\n        }],\n [{\n            'v': 2,\n            'f': \"2\",\n        },\n{\n            'v': 3.0,\n            'f': \"3.0\",\n        },\n{\n            'v': 2304939.202440619,\n            'f': \"2304939.202440619\",\n        }],\n [{\n            'v': 3,\n            'f': \"3\",\n        },\n{\n            'v': 4.0,\n            'f': \"4.0\",\n        },\n{\n            'v': 195708.0908032596,\n            'f': \"195708.0908032596\",\n        }],\n [{\n            'v': 4,\n            'f': \"4\",\n        },\n{\n            'v': 5.0,\n            'f': \"5.0\",\n        },\n{\n            'v': 65183.51063829787,\n            'f': \"65183.51063829787\",\n        }],\n [{\n            'v': 5,\n            'f': \"5\",\n        },\n{\n            'v': 6.0,\n            'f': \"6.0\",\n        },\n{\n            'v': 33672.8356336261,\n            'f': \"33672.8356336261\",\n        }],\n [{\n            'v': 6,\n            'f': \"6\",\n        },\n{\n            'v': 7.0,\n            'f': \"7.0\",\n        },\n{\n            'v': 3293616.4960866948,\n            'f': \"3293616.4960866948\",\n        }]],\n        columns: [[\"number\", \"index\"], [\"number\", \"Transaction Type\"], [\"number\", \"Average Transaction Value\"]],\n        columnOptions: [{\"width\": \"1px\", \"className\": \"index_column\"}],\n        rowsPerPage: 25,\n        helpUrl: \"https://colab.research.google.com/notebooks/data_table.ipynb\",\n        suppressOutputScrolling: true,\n        minimumWidth: undefined,\n      });\n\n      function appendQuickchartButton(parentElement) {\n        let quickchartButtonContainerElement = document.createElement('div');\n        quickchartButtonContainerElement.innerHTML = `\n<div id=\"df-7d695719-487a-42e8-a093-4fc33064dfe6\">\n  <button class=\"colab-df-quickchart\" onclick=\"quickchart('df-7d695719-487a-42e8-a093-4fc33064dfe6')\"\n            title=\"Suggest charts\"\n            style=\"display:none;\">\n    \n<svg xmlns=\"http://www.w3.org/2000/svg\" height=\"24px\"viewBox=\"0 0 24 24\"\n     width=\"24px\">\n    <g>\n        <path d=\"M19 3H5c-1.1 0-2 .9-2 2v14c0 1.1.9 2 2 2h14c1.1 0 2-.9 2-2V5c0-1.1-.9-2-2-2zM9 17H7v-7h2v7zm4 0h-2V7h2v10zm4 0h-2v-4h2v4z\"/>\n    </g>\n</svg>\n  </button>\n  \n<style>\n  .colab-df-quickchart {\n      --bg-color: #E8F0FE;\n      --fill-color: #1967D2;\n      --hover-bg-color: #E2EBFA;\n      --hover-fill-color: #174EA6;\n      --disabled-fill-color: #AAA;\n      --disabled-bg-color: #DDD;\n  }\n\n  [theme=dark] .colab-df-quickchart {\n      --bg-color: #3B4455;\n      --fill-color: #D2E3FC;\n      --hover-bg-color: #434B5C;\n      --hover-fill-color: #FFFFFF;\n      --disabled-bg-color: #3B4455;\n      --disabled-fill-color: #666;\n  }\n\n  .colab-df-quickchart {\n    background-color: var(--bg-color);\n    border: none;\n    border-radius: 50%;\n    cursor: pointer;\n    display: none;\n    fill: var(--fill-color);\n    height: 32px;\n    padding: 0;\n    width: 32px;\n  }\n\n  .colab-df-quickchart:hover {\n    background-color: var(--hover-bg-color);\n    box-shadow: 0 1px 2px rgba(60, 64, 67, 0.3), 0 1px 3px 1px rgba(60, 64, 67, 0.15);\n    fill: var(--button-hover-fill-color);\n  }\n\n  .colab-df-quickchart-complete:disabled,\n  .colab-df-quickchart-complete:disabled:hover {\n    background-color: var(--disabled-bg-color);\n    fill: var(--disabled-fill-color);\n    box-shadow: none;\n  }\n\n  .colab-df-spinner {\n    border: 2px solid var(--fill-color);\n    border-color: transparent;\n    border-bottom-color: var(--fill-color);\n    animation:\n      spin 1s steps(1) infinite;\n  }\n\n  @keyframes spin {\n    0% {\n      border-color: transparent;\n      border-bottom-color: var(--fill-color);\n      border-left-color: var(--fill-color);\n    }\n    20% {\n      border-color: transparent;\n      border-left-color: var(--fill-color);\n      border-top-color: var(--fill-color);\n    }\n    30% {\n      border-color: transparent;\n      border-left-color: var(--fill-color);\n      border-top-color: var(--fill-color);\n      border-right-color: var(--fill-color);\n    }\n    40% {\n      border-color: transparent;\n      border-right-color: var(--fill-color);\n      border-top-color: var(--fill-color);\n    }\n    60% {\n      border-color: transparent;\n      border-right-color: var(--fill-color);\n    }\n    80% {\n      border-color: transparent;\n      border-right-color: var(--fill-color);\n      border-bottom-color: var(--fill-color);\n    }\n    90% {\n      border-color: transparent;\n      border-bottom-color: var(--fill-color);\n    }\n  }\n</style>\n\n  <script>\n    async function quickchart(key) {\n      const quickchartButtonEl =\n        document.querySelector('#' + key + ' button');\n      quickchartButtonEl.disabled = true;  // To prevent multiple clicks.\n      quickchartButtonEl.classList.add('colab-df-spinner');\n      try {\n        const charts = await google.colab.kernel.invokeFunction(\n            'suggestCharts', [key], {});\n      } catch (error) {\n        console.error('Error during call to suggestCharts:', error);\n      }\n      quickchartButtonEl.classList.remove('colab-df-spinner');\n      quickchartButtonEl.classList.add('colab-df-quickchart-complete');\n    }\n    (() => {\n      let quickchartButtonEl =\n        document.querySelector('#df-7d695719-487a-42e8-a093-4fc33064dfe6 button');\n      quickchartButtonEl.style.display =\n        google.colab.kernel.accessAllowed ? 'block' : 'none';\n    })();\n  </script>\n</div>`;\n        parentElement.appendChild(quickchartButtonContainerElement);\n      }\n\n      appendQuickchartButton(table);\n    ",
            "text/plain": [
              "<google.colab.data_table.DataTable object>"
            ]
          },
          "metadata": {}
        }
      ]
    },
    {
      "cell_type": "markdown",
      "source": [
        "Correlation check between transaction value & daytime/age/date\n",
        "\n"
      ],
      "metadata": {
        "id": "IeNLGZIaGTuz"
      }
    },
    {
      "cell_type": "code",
      "source": [
        "correlation = df['age'].corr(df['txn_abs'])\n",
        "print(\"Correlation between age and transaction value:\", correlation)"
      ],
      "metadata": {
        "colab": {
          "base_uri": "https://localhost:8080/"
        },
        "id": "BDlrGShnCdiw",
        "outputId": "1eb707b1-59ee-4665-a9c8-6faf70a2e2d6"
      },
      "execution_count": 198,
      "outputs": [
        {
          "output_type": "stream",
          "name": "stdout",
          "text": [
            "Correlation between age and transaction value: 0.1181378839175458\n"
          ]
        }
      ]
    },
    {
      "cell_type": "code",
      "source": [
        "df['txn_ts_time'] = pd.to_numeric(df['txn_ts_time'], errors='coerce')\n",
        "correlation = df['txn_abs'].corr(df['txn_ts_time'])\n",
        "print(\"Correlation between transaction amount and hour of the day:\", correlation)"
      ],
      "metadata": {
        "colab": {
          "base_uri": "https://localhost:8080/"
        },
        "id": "fS-WVDATFI2K",
        "outputId": "2b970fb4-2b3d-4143-fa51-f3cbcd8eb30c"
      },
      "execution_count": 281,
      "outputs": [
        {
          "output_type": "stream",
          "name": "stdout",
          "text": [
            "Correlation between transaction amount and hour of the day: nan\n"
          ]
        }
      ]
    },
    {
      "cell_type": "code",
      "source": [
        "df['txn_ts_numeric'] = df['txn_ts'].astype(int)\n",
        "correlation = df['txn_ts_numeric'].corr(df['txn_abs'])\n",
        "print(\"Correlation between date and transaction value:\", correlation)"
      ],
      "metadata": {
        "colab": {
          "base_uri": "https://localhost:8080/"
        },
        "id": "AKcL7TWGQgp2",
        "outputId": "8df39678-e878-4a1b-cace-40b4ab93fd66"
      },
      "execution_count": 280,
      "outputs": [
        {
          "output_type": "stream",
          "name": "stdout",
          "text": [
            "Correlation between date and transaction value: 0.0017192776373960105\n"
          ]
        }
      ]
    },
    {
      "cell_type": "markdown",
      "source": [
        "Distribution of transaction during a day time & week"
      ],
      "metadata": {
        "id": "LDi0UWGJOMIr"
      }
    },
    {
      "cell_type": "code",
      "source": [
        "#Change data type\n",
        "df.loc[0, 'txn_ts'] = \"2021-01-01 11:52:00\"\n",
        "df['txn_ts'] = pd.to_datetime(df['txn_ts'], format='%Y-%m-%d %H:%M:%S')\n",
        "df['txn_ts_numeric'] = df['txn_ts'].dt.strftime('%Y%m%d%H%M%S')\n",
        "df['txn_ts_numeric'] = df['txn_ts'].astype(int)\n"
      ],
      "metadata": {
        "id": "94YJzCjRIjVc"
      },
      "execution_count": 241,
      "outputs": []
    },
    {
      "cell_type": "code",
      "source": [
        "df['hour_of_day'] = df['txn_ts'].dt.hour\n",
        "df['day_of_week'] = df['txn_ts'].dt.day_name()\n",
        "\n",
        "weekday_order = ['Monday', 'Tuesday', 'Wednesday', 'Thursday', 'Friday', 'Saturday', 'Sunday']\n",
        "transaction_count_by_day_hour = df.pivot_table(index='hour_of_day', columns='day_of_week', aggfunc='size', fill_value=0)\n",
        "transaction_count_by_day_hour = transaction_count_by_day_hour.reindex(columns=weekday_order)\n",
        "\n",
        "# Plotting the heatmap\n",
        "plt.figure(figsize=(12, 8))\n",
        "sns.heatmap(transaction_count_by_day_hour, cmap='YlGnBu', linewidths=0.5)\n",
        "plt.title('Distribution of Transactions by Hour of the Day and Day of the Week')\n",
        "plt.xlabel('Day of the Week')\n",
        "plt.ylabel('Hour of the Day')\n",
        "plt.yticks(rotation=0)\n",
        "plt.show()"
      ],
      "metadata": {
        "colab": {
          "base_uri": "https://localhost:8080/",
          "height": 718
        },
        "id": "FBxIdrNwOdFZ",
        "outputId": "acf643d1-b292-42aa-b40c-99a6073dac9a"
      },
      "execution_count": 272,
      "outputs": [
        {
          "output_type": "display_data",
          "data": {
            "text/plain": [
              "<Figure size 1200x800 with 2 Axes>"
            ],
            "image/png": "[encoded data removed]"
          },
          "metadata": {}
        }
      ]
    },
    {
      "cell_type": "markdown",
      "source": [
        "**What's next?**\n",
        "\n",
        "The analysis of the above results is included in the presentation (Link)\n",
        "\n",
        "In case of any concern, please contact me via my email - cuongnguyen1212122@gmail.com; or personal phone - +84-965-962-762"
      ],
      "metadata": {
        "id": "QI9q9orPQvDf"
      }
    }
  ]
}